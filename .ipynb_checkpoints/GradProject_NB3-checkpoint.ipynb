{
 "cells": [
  {
   "cell_type": "markdown",
   "metadata": {},
   "source": [
    "\n",
    "<h1> DS200A Computer Vision Assignment</h1>"
   ]
  },
  {
   "cell_type": "markdown",
   "metadata": {},
   "source": [
    "<h2>  Part Three: Training Models </h2>\t"
   ]
  },
  {
   "cell_type": "code",
   "execution_count": 1,
   "metadata": {},
   "outputs": [],
   "source": [
    "import pandas as pd\n",
    "import numpy as np\n",
    "import matplotlib as plt\n",
    "import sklearn\n",
    "from sklearn import model_selection\n",
    "from sklearn.model_selection import GridSearchCV"
   ]
  },
  {
   "cell_type": "code",
   "execution_count": 2,
   "metadata": {},
   "outputs": [],
   "source": [
    "def train_test_split(df):\n",
    "    train_df, val_df = sklearn.model_selection.train_test_split(df, test_size=0.2)\n",
    "    return train_df, val_df\n",
    "\n",
    "#Split the data into a training set, and test set \n",
    "def accuracy(pred, actual):\n",
    "    return np.mean(pred == actual)\n",
    "# Calculate the accuracy percentage of the predicted values\n",
    "def separate_features(df):\n",
    "    feature_df = df.iloc[:,2:]\n",
    "    labels_df = df.iloc[:,1]\n",
    "    return feature_df, labels_df"
   ]
  },
  {
   "cell_type": "code",
   "execution_count": 3,
   "metadata": {},
   "outputs": [],
   "source": [
    "training_data = pd.read_hdf('training_data.h5')"
   ]
  },
  {
   "cell_type": "code",
   "execution_count": 4,
   "metadata": {},
   "outputs": [
    {
     "data": {
      "text/html": [
       "<div>\n",
       "<style scoped>\n",
       "    .dataframe tbody tr th:only-of-type {\n",
       "        vertical-align: middle;\n",
       "    }\n",
       "\n",
       "    .dataframe tbody tr th {\n",
       "        vertical-align: top;\n",
       "    }\n",
       "\n",
       "    .dataframe thead th {\n",
       "        text-align: right;\n",
       "    }\n",
       "</style>\n",
       "<table border=\"1\" class=\"dataframe\">\n",
       "  <thead>\n",
       "    <tr style=\"text-align: right;\">\n",
       "      <th></th>\n",
       "      <th>image</th>\n",
       "      <th>label</th>\n",
       "      <th>ft1</th>\n",
       "      <th>ft2</th>\n",
       "      <th>ft3</th>\n",
       "      <th>ft4</th>\n",
       "      <th>ft5</th>\n",
       "      <th>ft6</th>\n",
       "      <th>ft7</th>\n",
       "      <th>ft8</th>\n",
       "      <th>ft9</th>\n",
       "    </tr>\n",
       "  </thead>\n",
       "  <tbody>\n",
       "    <tr>\n",
       "      <th>0</th>\n",
       "      <td>[[[255, 255, 255], [255, 255, 255], [255, 255,...</td>\n",
       "      <td>0</td>\n",
       "      <td>183.353871</td>\n",
       "      <td>172.750792</td>\n",
       "      <td>158.170426</td>\n",
       "      <td>2.703448</td>\n",
       "      <td>0.429701</td>\n",
       "      <td>0.488443</td>\n",
       "      <td>0.039089</td>\n",
       "      <td>0.028354</td>\n",
       "      <td>39</td>\n",
       "    </tr>\n",
       "    <tr>\n",
       "      <th>1</th>\n",
       "      <td>[[[255, 255, 255], [255, 255, 255], [255, 255,...</td>\n",
       "      <td>0</td>\n",
       "      <td>175.369108</td>\n",
       "      <td>173.519216</td>\n",
       "      <td>155.730257</td>\n",
       "      <td>2.130435</td>\n",
       "      <td>0.514157</td>\n",
       "      <td>0.509131</td>\n",
       "      <td>0.064389</td>\n",
       "      <td>0.020408</td>\n",
       "      <td>85</td>\n",
       "    </tr>\n",
       "    <tr>\n",
       "      <th>2</th>\n",
       "      <td>[[[255, 255, 255], [255, 255, 255], [255, 255,...</td>\n",
       "      <td>0</td>\n",
       "      <td>118.945767</td>\n",
       "      <td>128.029098</td>\n",
       "      <td>107.586409</td>\n",
       "      <td>2.541935</td>\n",
       "      <td>0.490441</td>\n",
       "      <td>0.461284</td>\n",
       "      <td>0.068389</td>\n",
       "      <td>0.043101</td>\n",
       "      <td>128</td>\n",
       "    </tr>\n",
       "    <tr>\n",
       "      <th>3</th>\n",
       "      <td>[[[252, 251, 247], [252, 251, 247], [252, 251,...</td>\n",
       "      <td>0</td>\n",
       "      <td>169.865545</td>\n",
       "      <td>163.073735</td>\n",
       "      <td>147.204053</td>\n",
       "      <td>2.214689</td>\n",
       "      <td>0.417252</td>\n",
       "      <td>0.593149</td>\n",
       "      <td>0.068357</td>\n",
       "      <td>0.025217</td>\n",
       "      <td>75</td>\n",
       "    </tr>\n",
       "    <tr>\n",
       "      <th>4</th>\n",
       "      <td>[[[255, 255, 255], [255, 255, 255], [255, 255,...</td>\n",
       "      <td>0</td>\n",
       "      <td>169.505337</td>\n",
       "      <td>160.140544</td>\n",
       "      <td>155.502016</td>\n",
       "      <td>2.551948</td>\n",
       "      <td>0.534490</td>\n",
       "      <td>0.584889</td>\n",
       "      <td>0.054607</td>\n",
       "      <td>0.022685</td>\n",
       "      <td>40</td>\n",
       "    </tr>\n",
       "  </tbody>\n",
       "</table>\n",
       "</div>"
      ],
      "text/plain": [
       "                                               image label         ft1  \\\n",
       "0  [[[255, 255, 255], [255, 255, 255], [255, 255,...     0  183.353871   \n",
       "1  [[[255, 255, 255], [255, 255, 255], [255, 255,...     0  175.369108   \n",
       "2  [[[255, 255, 255], [255, 255, 255], [255, 255,...     0  118.945767   \n",
       "3  [[[252, 251, 247], [252, 251, 247], [252, 251,...     0  169.865545   \n",
       "4  [[[255, 255, 255], [255, 255, 255], [255, 255,...     0  169.505337   \n",
       "\n",
       "          ft2         ft3       ft4       ft5       ft6       ft7       ft8  \\\n",
       "0  172.750792  158.170426  2.703448  0.429701  0.488443  0.039089  0.028354   \n",
       "1  173.519216  155.730257  2.130435  0.514157  0.509131  0.064389  0.020408   \n",
       "2  128.029098  107.586409  2.541935  0.490441  0.461284  0.068389  0.043101   \n",
       "3  163.073735  147.204053  2.214689  0.417252  0.593149  0.068357  0.025217   \n",
       "4  160.140544  155.502016  2.551948  0.534490  0.584889  0.054607  0.022685   \n",
       "\n",
       "   ft9  \n",
       "0   39  \n",
       "1   85  \n",
       "2  128  \n",
       "3   75  \n",
       "4   40  "
      ]
     },
     "execution_count": 4,
     "metadata": {},
     "output_type": "execute_result"
    }
   ],
   "source": [
    "training_data.head()"
   ]
  },
  {
   "cell_type": "markdown",
   "metadata": {},
   "source": [
    "<h3>  Train models using all of the following methods below. Be sure to drop the actual image column, and the encoding</h3>\tTake note of the differences in accuracy, and methods.\n"
   ]
  },
  {
   "cell_type": "code",
   "execution_count": 14,
   "metadata": {},
   "outputs": [],
   "source": [
    "train, val = train_test_split(training_data)\n",
    "X_train, y_train = separate_features(train)\n",
    "X_train.reset_index().drop(columns=['index'])\n",
    "y_train.reset_index().drop(columns=['index'])\n",
    "y_train = y_train.astype('int')\n",
    "\n",
    "X_val, y_val = separate_features(val)\n",
    "X_val.reset_index().drop(columns=['index'])\n",
    "y_val.reset_index().drop(columns=['index'])\n",
    "y_val = y_val.astype('int')"
   ]
  },
  {
   "cell_type": "code",
   "execution_count": 17,
   "metadata": {},
   "outputs": [],
   "source": [
    "import warnings\n",
    "warnings.filterwarnings(\"ignore\")\n",
    "\n",
    "def cross_val(model, k, feature_data, label_data):\n",
    "    \n",
    "    kf = sklearn.model_selection.KFold(n_splits = k)\n",
    "    kf.get_n_splits(feature_data)\n",
    "    \n",
    "    accuracy_scores = np.empty([k, 1])\n",
    "    model_params = [{} for i in range(feature_data.shape[1])]\n",
    "        \n",
    "    for i, (train_index, test_index) in enumerate(kf.split(feature_data)):\n",
    "        model.fit(feature_data.iloc[train_index], label_data.iloc[train_index])\n",
    "        label_predict = model.predict(feature_data.iloc[test_index])\n",
    "        accuracy_scores[i] = accuracy(label_data.iloc[test_index], label_predict)\n",
    "        model_params[i] = model.get_params()\n",
    "        print(accuracy_scores[i])\n",
    "    \n",
    "    return model_params, accuracy_scores"
   ]
  },
  {
   "cell_type": "markdown",
   "metadata": {},
   "source": [
    "Logistic Regression"
   ]
  },
  {
   "cell_type": "code",
   "execution_count": 20,
   "metadata": {},
   "outputs": [
    {
     "name": "stdout",
     "output_type": "stream",
     "text": [
      "[ 0.31666667]\n",
      "[ 0.2875]\n",
      "[ 0.32083333]\n",
      "[ 0.31666667]\n",
      "[ 0.32916667]\n"
     ]
    }
   ],
   "source": [
    "from sklearn.linear_model import LogisticRegression\n",
    "\n",
    "lreg = LogisticRegression(random_state=0, penalty='l2', C=1)\n",
    "params = {'C': [1e-1, 1, 10, 100]}\n",
    "lreg = GridSearchCV(lreg, params, cv=5)\n",
    "model_params, accuracy_scores = cross_val(lreg, 5, X_train, y_train)"
   ]
  },
  {
   "cell_type": "markdown",
   "metadata": {},
   "source": [
    "K-nearest Neighbors"
   ]
  },
  {
   "cell_type": "code",
   "execution_count": 33,
   "metadata": {},
   "outputs": [],
   "source": [
    "from sklearn.neighbors import KNeighborsClassifier\n",
    "\n",
    "neigh = KNeighborsClassifier(n_neighbors=4)\n",
    "neigh.fit(X_train, y_train);"
   ]
  },
  {
   "cell_type": "markdown",
   "metadata": {},
   "source": [
    "Random Forest"
   ]
  },
  {
   "cell_type": "code",
   "execution_count": 26,
   "metadata": {},
   "outputs": [
    {
     "name": "stdout",
     "output_type": "stream",
     "text": [
      "[ 0.33333333]\n",
      "[ 0.29583333]\n",
      "[ 0.3625]\n",
      "[ 0.33333333]\n",
      "[ 0.325]\n"
     ]
    }
   ],
   "source": [
    "from sklearn.ensemble import RandomForestClassifier\n",
    "\n",
    "rand_forest = RandomForestClassifier(\n",
    "    random_state=0, \n",
    "    n_estimators=25, \n",
    "    max_depth=5, \n",
    "    bootstrap=True\n",
    ")\n",
    "params = {\n",
    "    'n_estimators': [25,75,150],\n",
    "    'max_depth': [10,20,80]\n",
    "}\n",
    "grid_rand_forest = GridSearchCV(rand_forest, params, cv=5)\n",
    "model_params, accuracy_scores = cross_val(grid_rand_forest, 5, X_train, y_train)"
   ]
  },
  {
   "cell_type": "code",
   "execution_count": 25,
   "metadata": {},
   "outputs": [
    {
     "data": {
      "text/plain": [
       "0.32890365448504982"
      ]
     },
     "execution_count": 25,
     "metadata": {},
     "output_type": "execute_result"
    }
   ],
   "source": [
    "rand_forest = RandomForestClassifier(\n",
    "    random_state=0, \n",
    "    n_estimators=100, \n",
    "    max_depth=20, \n",
    "    bootstrap=True\n",
    ")\n",
    "\n",
    "cross_val(rand_forest, 5, X_train, y_train)\n",
    "y_hat = rand_forest.predict(X_val)\n",
    "accuracy(y_hat, y_val)"
   ]
  },
  {
   "cell_type": "markdown",
   "metadata": {},
   "source": [
    "Support Vector Machine"
   ]
  },
  {
   "cell_type": "code",
   "execution_count": 34,
   "metadata": {},
   "outputs": [],
   "source": [
    "from sklearn.multiclass import OneVsOneClassifier\n",
    "from sklearn.svm import LinearSVC\n",
    "\n",
    "svm = OneVsOneClassifier(LinearSVC(random_state=0))\n",
    "svm.fit(X_train, y_train);"
   ]
  },
  {
   "cell_type": "code",
   "execution_count": 59,
   "metadata": {},
   "outputs": [
    {
     "name": "stdout",
     "output_type": "stream",
     "text": [
      "Logistic Regression Accuracy: 0.2757475083056478\n",
      "K-NN                Accuracy: 0.23255813953488372\n",
      "Random Forest       Accuracy: 0.36212624584717606\n",
      "SVM                 Accuracy: 0.2059800664451827\n"
     ]
    }
   ],
   "source": [
    "models = [lreg, neigh, rand_forest, svm]\n",
    "names = ['Logistic Regression', 'K-NN', 'Random Forest', 'SVM']\n",
    "max_name_length = len(max(names, key=len))\n",
    "\n",
    "for model, name in zip(models, names):\n",
    "    y_hat = model.predict(X_val)\n",
    "    acc = accuracy(y_hat, y_val)\n",
    "    print('{:19s} Accuracy: {}'.format(name, acc))"
   ]
  }
 ],
 "metadata": {
  "kernelspec": {
   "display_name": "Python 3",
   "language": "python",
   "name": "python3"
  },
  "language_info": {
   "codemirror_mode": {
    "name": "ipython",
    "version": 3
   },
   "file_extension": ".py",
   "mimetype": "text/x-python",
   "name": "python",
   "nbconvert_exporter": "python",
   "pygments_lexer": "ipython3",
   "version": "3.6.4"
  }
 },
 "nbformat": 4,
 "nbformat_minor": 2
}
