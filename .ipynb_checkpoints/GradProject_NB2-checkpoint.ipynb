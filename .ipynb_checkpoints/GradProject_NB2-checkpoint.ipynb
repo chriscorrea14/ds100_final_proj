{
 "cells": [
  {
   "cell_type": "markdown",
   "metadata": {},
   "source": [
    "<h1> DS200A Computer Vision Assignment</h1>"
   ]
  },
  {
   "cell_type": "markdown",
   "metadata": {},
   "source": [
    "<h2>  Part Two: Feature Selection </h2>\t\n"
   ]
  },
  {
   "cell_type": "markdown",
   "metadata": {},
   "source": [
    "<h4> In this section, we would like you to select between 15 and 20 features to focus your model on. This will require significant explatoratory research. The first one is already implemented for you, and the next two are pre-specified.  </h4>"
   ]
  },
  {
   "cell_type": "code",
   "execution_count": 2,
   "metadata": {},
   "outputs": [],
   "source": [
    "import pandas as pd\n",
    "import numpy as np\n",
    "import matplotlib.pyplot as plt\n",
    "import seaborn as sns\n",
    "import os\n",
    "# import cv2"
   ]
  },
  {
   "cell_type": "code",
   "execution_count": 4,
   "metadata": {},
   "outputs": [],
   "source": [
    "def ft0(image):\n",
    "    return image.size\n",
    "# Returns the pixel size of the image\n",
    "def ft1(image):\n",
    "#     return np.mean([[pixel[0] for pixel in row] for row in image])\n",
    "    return np.mean(image[:,:,0])\n",
    "# Returns the average of the red-channel pictures for the images\n",
    "def ft2(image):\n",
    "#     return np.mean([[pixel[1] for pixel in row] for row in image])\n",
    "    return np.mean(image[:,:,1])\n",
    "# Returns the average of the green-channel pictures for the images\n",
    "def ft3(image):\n",
    "#     return np.mean([[pixel[2] for pixel in row] for row in image])\n",
    "    return np.mean(image[:,:,2])\n",
    "# Returns the average of the blue-channel pictures for the images\n",
    "def ft4(image):\n",
    "    return image.shape[1]/image.shape[0];\n",
    "# def ft5()\n",
    "#Returns the aspect ratio of the image"
   ]
  },
  {
   "cell_type": "code",
   "execution_count": 18,
   "metadata": {},
   "outputs": [],
   "source": [
    "# Load in data\n",
    "starting_data = pd.read_hdf('starting_data.h5')"
   ]
  },
  {
   "cell_type": "code",
   "execution_count": 19,
   "metadata": {},
   "outputs": [
    {
     "name": "stdout",
     "output_type": "stream",
     "text": [
      "['killer-whale', 'leopards', 'unicorn', 'kangaroo', 'gorilla', 'giraffe', 'comet', 'zebra', 'goat', 'porcupine', 'teddy-bear', 'blimp', 'airplanes', 'dog', 'llama', '._.DS_Store', 'triceratops', '.DS_Store', 'crab', 'dolphin', 'bear', 'penguin']\n"
     ]
    }
   ],
   "source": [
    "# For info\n",
    "data_file_path = file_path = os.path.join(os.getcwd(), '20_categories_training')\n",
    "categories = [dir_name for dir_name in os.listdir(data_file_path)]\n",
    "print(categories)"
   ]
  },
  {
   "cell_type": "code",
   "execution_count": 30,
   "metadata": {},
   "outputs": [
    {
     "name": "stdout",
     "output_type": "stream",
     "text": [
      "(145, 392)\n"
     ]
    },
    {
     "data": {
      "text/plain": [
       "(145, 392, 3)"
      ]
     },
     "execution_count": 30,
     "metadata": {},
     "output_type": "execute_result"
    }
   ],
   "source": [
    "# Remove images that are not correctly formatted\n",
    "# bool_index = [len(np.shape(image))!=3 for image in starting_data['image']]\n",
    "# remove_index = starting_data.loc[bool_index].index.tolist()\n",
    "# starting_data.drop(remove_index, inplace=True)\n",
    "\n",
    "# mapping 1 color channel images to 3 color channels\n",
    "def expand_1_channel(image):\n",
    "    if len(image.shape) == 3:\n",
    "        return image\n",
    "    return np.repeat(np.expand_dims(a, axis=2), 3, axis=2)\n",
    "starting_data['image'] = starting_data['image'].apply(expand_1_channel)"
   ]
  },
  {
   "cell_type": "markdown",
   "metadata": {},
   "source": [
    "Define more features above, performing any EDA research below. We expect all external sources sited, and a couple significant different graphs indicating some form of EDA. "
   ]
  },
  {
   "cell_type": "markdown",
   "metadata": {},
   "source": [
    "<h4> Graphs </h4>"
   ]
  },
  {
   "cell_type": "code",
   "execution_count": 12,
   "metadata": {},
   "outputs": [],
   "source": [
    "# Exploration of data!\n",
    "\n",
    "# Examining trends in average color channel\n",
    "\n",
    "# Compute the average red-channel for each image\n",
    "starting_data['red_average'] = pd.Series([ft1(image) for image in starting_data['image']])\n",
    "\n",
    "# Compute the average green-channel for each image\n",
    "starting_data['green_average'] = pd.Series([ft2(image) for image in starting_data['image']])\n",
    "\n",
    "# Compute the average blue-channel for each image\n",
    "starting_data['blue_average'] = pd.Series([ft3(image) for image in starting_data['image']])"
   ]
  },
  {
   "cell_type": "code",
   "execution_count": 13,
   "metadata": {},
   "outputs": [
    {
     "name": "stderr",
     "output_type": "stream",
     "text": [
      "/home/chriscorrea14/miniconda2/envs/data100/lib/python3.6/site-packages/pandas/core/indexing.py:1472: FutureWarning: \n",
      "Passing list-likes to .loc or [] with any missing label will raise\n",
      "KeyError in the future, you can use .reindex() as an alternative.\n",
      "\n",
      "See the documentation here:\n",
      "https://pandas.pydata.org/pandas-docs/stable/indexing.html#deprecate-loc-reindex-listlike\n",
      "  return self._getitem_tuple(key)\n"
     ]
    }
   ],
   "source": [
    "# Reorganize color variable into hue column\n",
    "starting_data_colored = starting_data.copy()\n",
    "if not 'new_index' in starting_data_colored:\n",
    "    starting_data_colored.reset_index(inplace=True)\n",
    "    starting_data_colored.rename(columns={'index':'new_index'}, inplace=True)\n",
    "\n",
    "starting_data_colored = pd.melt(starting_data, id_vars=['new_index', 'image', 'label'],\n",
    "                               value_vars=['red_average', 'green_average', 'blue_average'])\n",
    "starting_data_colored.rename(columns={'variable':'color'}, inplace=True)"
   ]
  },
  {
   "cell_type": "code",
   "execution_count": 15,
   "metadata": {
    "scrolled": false
   },
   "outputs": [
    {
     "data": {
      "text/plain": [
       "<matplotlib.figure.Figure at 0x7fe548fe64e0>"
      ]
     },
     "metadata": {},
     "output_type": "display_data"
    },
    {
     "data": {
      "image/png": "[encoded data removed]",
      "text/plain": [
       "<matplotlib.figure.Figure at 0x7fe549015be0>"
      ]
     },
     "metadata": {},
     "output_type": "display_data"
    }
   ],
   "source": [
    "#sns.barplot(starting_data.groupby(['label']).mean().reset_index()['label'],\n",
    "#           starting_data.groupby(['label']).mean()['red_average'])\n",
    "#plt.xticks(np.arange(0,20), categories[2:], rotation=90)\n",
    "\n",
    "plt.figure(figsize=[12,12])\n",
    "sns.catplot(x='label', y='value', hue='color', data=starting_data_colored,\n",
    "            kind='bar', palette=['r','g','b'], height=6, aspect=2, ci=None)\n",
    "plt.xticks(np.arange(0,20), categories[2:], rotation=90)\n",
    "plt.xlabel('Image Category')\n",
    "plt.ylabel('Average Color Channel Value')\n",
    "plt.title('Average Color Channel Values for Each Category of Image');"
   ]
  },
  {
   "cell_type": "code",
   "execution_count": 10,
   "metadata": {},
   "outputs": [
    {
     "data": {
      "text/html": [
       "<div>\n",
       "<style scoped>\n",
       "    .dataframe tbody tr th:only-of-type {\n",
       "        vertical-align: middle;\n",
       "    }\n",
       "\n",
       "    .dataframe tbody tr th {\n",
       "        vertical-align: top;\n",
       "    }\n",
       "\n",
       "    .dataframe thead th {\n",
       "        text-align: right;\n",
       "    }\n",
       "</style>\n",
       "<table border=\"1\" class=\"dataframe\">\n",
       "  <thead>\n",
       "    <tr style=\"text-align: right;\">\n",
       "      <th></th>\n",
       "      <th>image</th>\n",
       "      <th>label</th>\n",
       "      <th>red_average</th>\n",
       "      <th>green_average</th>\n",
       "      <th>blue_average</th>\n",
       "      <th>aspect_ratio</th>\n",
       "    </tr>\n",
       "  </thead>\n",
       "  <tbody>\n",
       "    <tr>\n",
       "      <th>0</th>\n",
       "      <td>[[[255, 255, 255], [255, 255, 255], [255, 255,...</td>\n",
       "      <td>0</td>\n",
       "      <td>183.355727</td>\n",
       "      <td>176.750337</td>\n",
       "      <td>149.151581</td>\n",
       "      <td>2.426829</td>\n",
       "    </tr>\n",
       "    <tr>\n",
       "      <th>1</th>\n",
       "      <td>[[[255, 255, 255], [255, 255, 255], [255, 255,...</td>\n",
       "      <td>0</td>\n",
       "      <td>210.739822</td>\n",
       "      <td>189.280101</td>\n",
       "      <td>164.805242</td>\n",
       "      <td>2.179348</td>\n",
       "    </tr>\n",
       "    <tr>\n",
       "      <th>2</th>\n",
       "      <td>[[[255, 255, 255], [255, 255, 255], [255, 255,...</td>\n",
       "      <td>0</td>\n",
       "      <td>170.123787</td>\n",
       "      <td>147.788681</td>\n",
       "      <td>111.753798</td>\n",
       "      <td>2.381818</td>\n",
       "    </tr>\n",
       "    <tr>\n",
       "      <th>3</th>\n",
       "      <td>[[[174, 190, 187], [173, 189, 186], [172, 188,...</td>\n",
       "      <td>0</td>\n",
       "      <td>152.159752</td>\n",
       "      <td>132.648316</td>\n",
       "      <td>77.917303</td>\n",
       "      <td>2.311765</td>\n",
       "    </tr>\n",
       "    <tr>\n",
       "      <th>4</th>\n",
       "      <td>[[[255, 255, 255], [255, 255, 255], [255, 255,...</td>\n",
       "      <td>0</td>\n",
       "      <td>147.397886</td>\n",
       "      <td>150.504790</td>\n",
       "      <td>86.252963</td>\n",
       "      <td>2.244318</td>\n",
       "    </tr>\n",
       "  </tbody>\n",
       "</table>\n",
       "</div>"
      ],
      "text/plain": [
       "                                               image label  red_average  \\\n",
       "0  [[[255, 255, 255], [255, 255, 255], [255, 255,...     0   183.355727   \n",
       "1  [[[255, 255, 255], [255, 255, 255], [255, 255,...     0   210.739822   \n",
       "2  [[[255, 255, 255], [255, 255, 255], [255, 255,...     0   170.123787   \n",
       "3  [[[174, 190, 187], [173, 189, 186], [172, 188,...     0   152.159752   \n",
       "4  [[[255, 255, 255], [255, 255, 255], [255, 255,...     0   147.397886   \n",
       "\n",
       "   green_average  blue_average  aspect_ratio  \n",
       "0     176.750337    149.151581      2.426829  \n",
       "1     189.280101    164.805242      2.179348  \n",
       "2     147.788681    111.753798      2.381818  \n",
       "3     132.648316     77.917303      2.311765  \n",
       "4     150.504790     86.252963      2.244318  "
      ]
     },
     "execution_count": 10,
     "metadata": {},
     "output_type": "execute_result"
    }
   ],
   "source": [
    "# Exploration of data!\n",
    "\n",
    "# Compute the aspect ratio\n",
    "starting_data['aspect_ratio'] = pd.Series([ft4(image) for image in starting_data['image']])"
   ]
  },
  {
   "cell_type": "code",
   "execution_count": 13,
   "metadata": {},
   "outputs": [
    {
     "data": {
      "text/plain": [
       "Text(0.5,1,'Average Aspect Ratio for Each Category of Image')"
      ]
     },
     "execution_count": 13,
     "metadata": {},
     "output_type": "execute_result"
    },
    {
     "data": {
      "image/png": "[encoded data removed]",
      "text/plain": [
       "<matplotlib.figure.Figure at 0x1ec01cd4780>"
      ]
     },
     "metadata": {},
     "output_type": "display_data"
    }
   ],
   "source": [
    "plt.figure(figsize=[12,12])\n",
    "sns.barplot(x=starting_data.groupby(['label']).mean().reset_index()['label'],\n",
    "            y=starting_data.groupby(['label']).mean()['aspect_ratio'])\n",
    "plt.xlabel('Image Category')\n",
    "plt.ylabel('Average Aspect Ratio')\n",
    "plt.title('Average Aspect Ratio for Each Category of Image')"
   ]
  },
  {
   "cell_type": "code",
   "execution_count": 14,
   "metadata": {},
   "outputs": [
    {
     "data": {
      "text/html": [
       "<div>\n",
       "<style scoped>\n",
       "    .dataframe tbody tr th:only-of-type {\n",
       "        vertical-align: middle;\n",
       "    }\n",
       "\n",
       "    .dataframe tbody tr th {\n",
       "        vertical-align: top;\n",
       "    }\n",
       "\n",
       "    .dataframe thead th {\n",
       "        text-align: right;\n",
       "    }\n",
       "</style>\n",
       "<table border=\"1\" class=\"dataframe\">\n",
       "  <thead>\n",
       "    <tr style=\"text-align: right;\">\n",
       "      <th></th>\n",
       "      <th>image</th>\n",
       "      <th>label</th>\n",
       "      <th>red_average</th>\n",
       "      <th>green_average</th>\n",
       "      <th>blue_average</th>\n",
       "      <th>aspect_ratio</th>\n",
       "      <th>image_size</th>\n",
       "    </tr>\n",
       "  </thead>\n",
       "  <tbody>\n",
       "    <tr>\n",
       "      <th>0</th>\n",
       "      <td>[[[255, 255, 255], [255, 255, 255], [255, 255,...</td>\n",
       "      <td>0</td>\n",
       "      <td>183.355727</td>\n",
       "      <td>176.750337</td>\n",
       "      <td>149.151581</td>\n",
       "      <td>2.426829</td>\n",
       "      <td>195816.0</td>\n",
       "    </tr>\n",
       "    <tr>\n",
       "      <th>1</th>\n",
       "      <td>[[[255, 255, 255], [255, 255, 255], [255, 255,...</td>\n",
       "      <td>0</td>\n",
       "      <td>210.739822</td>\n",
       "      <td>189.280101</td>\n",
       "      <td>164.805242</td>\n",
       "      <td>2.179348</td>\n",
       "      <td>221352.0</td>\n",
       "    </tr>\n",
       "    <tr>\n",
       "      <th>2</th>\n",
       "      <td>[[[255, 255, 255], [255, 255, 255], [255, 255,...</td>\n",
       "      <td>0</td>\n",
       "      <td>170.123787</td>\n",
       "      <td>147.788681</td>\n",
       "      <td>111.753798</td>\n",
       "      <td>2.381818</td>\n",
       "      <td>194535.0</td>\n",
       "    </tr>\n",
       "    <tr>\n",
       "      <th>3</th>\n",
       "      <td>[[[174, 190, 187], [173, 189, 186], [172, 188,...</td>\n",
       "      <td>0</td>\n",
       "      <td>152.159752</td>\n",
       "      <td>132.648316</td>\n",
       "      <td>77.917303</td>\n",
       "      <td>2.311765</td>\n",
       "      <td>200430.0</td>\n",
       "    </tr>\n",
       "    <tr>\n",
       "      <th>4</th>\n",
       "      <td>[[[255, 255, 255], [255, 255, 255], [255, 255,...</td>\n",
       "      <td>0</td>\n",
       "      <td>147.397886</td>\n",
       "      <td>150.504790</td>\n",
       "      <td>86.252963</td>\n",
       "      <td>2.244318</td>\n",
       "      <td>208560.0</td>\n",
       "    </tr>\n",
       "  </tbody>\n",
       "</table>\n",
       "</div>"
      ],
      "text/plain": [
       "                                               image label  red_average  \\\n",
       "0  [[[255, 255, 255], [255, 255, 255], [255, 255,...     0   183.355727   \n",
       "1  [[[255, 255, 255], [255, 255, 255], [255, 255,...     0   210.739822   \n",
       "2  [[[255, 255, 255], [255, 255, 255], [255, 255,...     0   170.123787   \n",
       "3  [[[174, 190, 187], [173, 189, 186], [172, 188,...     0   152.159752   \n",
       "4  [[[255, 255, 255], [255, 255, 255], [255, 255,...     0   147.397886   \n",
       "\n",
       "   green_average  blue_average  aspect_ratio  image_size  \n",
       "0     176.750337    149.151581      2.426829    195816.0  \n",
       "1     189.280101    164.805242      2.179348    221352.0  \n",
       "2     147.788681    111.753798      2.381818    194535.0  \n",
       "3     132.648316     77.917303      2.311765    200430.0  \n",
       "4     150.504790     86.252963      2.244318    208560.0  "
      ]
     },
     "execution_count": 14,
     "metadata": {},
     "output_type": "execute_result"
    }
   ],
   "source": [
    "# Exploration of data!\n",
    "\n",
    "# Determine the image size\n",
    "starting_data['image_size'] = pd.Series([ft0(image) for image in starting_data['image']])"
   ]
  },
  {
   "cell_type": "code",
   "execution_count": 15,
   "metadata": {},
   "outputs": [
    {
     "data": {
      "text/plain": [
       "Text(0.5,1,'Average Image Size for Each Category of Image')"
      ]
     },
     "execution_count": 15,
     "metadata": {},
     "output_type": "execute_result"
    },
    {
     "data": {
      "image/png": "[encoded data removed]",
      "text/plain": [
       "<matplotlib.figure.Figure at 0x1ec02097e48>"
      ]
     },
     "metadata": {},
     "output_type": "display_data"
    }
   ],
   "source": [
    "plt.figure(figsize=[12,12])\n",
    "sns.barplot(x=starting_data.groupby(['label']).mean().reset_index()['label'],\n",
    "            y=starting_data.groupby(['label']).mean()['image_size'])\n",
    "plt.xlabel('Image Category')\n",
    "plt.ylabel('Average Image Size')\n",
    "plt.title('Average Image Size for Each Category of Image')"
   ]
  },
  {
   "cell_type": "code",
   "execution_count": null,
   "metadata": {},
   "outputs": [],
   "source": [
    "# Exploration of data!\n",
    "\n"
   ]
  },
  {
   "cell_type": "markdown",
   "metadata": {},
   "source": [
    "<h4> Sources </h4>"
   ]
  },
  {
   "cell_type": "code",
   "execution_count": null,
   "metadata": {},
   "outputs": [],
   "source": []
  },
  {
   "cell_type": "markdown",
   "metadata": {},
   "source": [
    "<h4> DataFrame Creation </h4>"
   ]
  },
  {
   "cell_type": "code",
   "execution_count": 2,
   "metadata": {},
   "outputs": [],
   "source": [
    "def feature_frame(df):\n",
    "    return df\n",
    "    #Returns data-frame with all the features now inside, and calculated\n"
   ]
  },
  {
   "cell_type": "code",
   "execution_count": 3,
   "metadata": {},
   "outputs": [
    {
     "ename": "NameError",
     "evalue": "name 'starting_data' is not defined",
     "output_type": "error",
     "traceback": [
      "\u001b[1;31m---------------------------------------------------------------------------\u001b[0m",
      "\u001b[1;31mNameError\u001b[0m                                 Traceback (most recent call last)",
      "\u001b[1;32m<ipython-input-3-8b1b5be4e99b>\u001b[0m in \u001b[0;36m<module>\u001b[1;34m()\u001b[0m\n\u001b[1;32m----> 1\u001b[1;33m \u001b[0mfeature_frame\u001b[0m\u001b[1;33m(\u001b[0m\u001b[0mstarting_data\u001b[0m\u001b[1;33m)\u001b[0m\u001b[1;33m\u001b[0m\u001b[0m\n\u001b[0m",
      "\u001b[1;31mNameError\u001b[0m: name 'starting_data' is not defined"
     ]
    }
   ],
   "source": [
    "feature_frame(data_from_nb1)"
   ]
  },
  {
   "cell_type": "code",
   "execution_count": null,
   "metadata": {},
   "outputs": [],
   "source": []
  }
 ],
 "metadata": {
  "kernelspec": {
   "display_name": "Python 3",
   "language": "python",
   "name": "python3"
  },
  "language_info": {
   "codemirror_mode": {
    "name": "ipython",
    "version": 3
   },
   "file_extension": ".py",
   "mimetype": "text/x-python",
   "name": "python",
   "nbconvert_exporter": "python",
   "pygments_lexer": "ipython3",
   "version": "3.6.4"
  }
 },
 "nbformat": 4,
 "nbformat_minor": 2
}
