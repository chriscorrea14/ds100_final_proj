{
 "cells": [
  {
   "cell_type": "markdown",
   "metadata": {},
   "source": [
    "<h1> DS200A Computer Vision Assignment</h1>"
   ]
  },
  {
   "cell_type": "markdown",
   "metadata": {},
   "source": [
    "<h2>  Part Two: Feature Selection </h2>\t\n"
   ]
  },
  {
   "cell_type": "markdown",
   "metadata": {},
   "source": [
    "<h4> In this section, we would like you to select between 15 and 20 features to focus your model on. This will require significant explatoratory research. The first one is already implemented for you, and the next two are pre-specified.  </h4>"
   ]
  },
  {
   "cell_type": "code",
   "execution_count": 1,
   "metadata": {},
   "outputs": [],
   "source": [
    "import pandas as pd\n",
    "import numpy as np\n",
    "import matplotlib.pyplot as plt\n",
    "import seaborn as sns\n",
    "import os\n",
    "import cv2\n",
    "import skimage\n",
    "from skimage import io\n",
    "from sklearn.manifold import TSNE"
   ]
  },
  {
   "cell_type": "code",
   "execution_count": 2,
   "metadata": {},
   "outputs": [],
   "source": [
    "def find_corners(image):\n",
    "    gray = cv2.cvtColor(image,cv2.COLOR_BGR2GRAY)\n",
    "    \n",
    "    # find Harris corners\n",
    "    gray = np.float32(gray)\n",
    "    dst = cv2.cornerHarris(gray,2,3,0.04)\n",
    "    dst = cv2.dilate(dst,None)\n",
    "    ret, dst = cv2.threshold(dst,0.01*dst.max(),255,0)\n",
    "    dst = np.uint8(dst)\n",
    "    \n",
    "    # find centroids\n",
    "    ret, labels, stats, centroids = cv2.connectedComponentsWithStats(dst)\n",
    "    \n",
    "    # define the criteria to stop and refine the corners\n",
    "    criteria = (cv2.TERM_CRITERIA_EPS + cv2.TERM_CRITERIA_MAX_ITER, 100, 0.001)\n",
    "    corners = cv2.cornerSubPix(gray,np.float32(centroids),(5,5),(-1,-1),criteria)\n",
    "    \n",
    "    return corners\n",
    "\n",
    "def kmeans(corners):\n",
    "    k = 10\n",
    "    corners = np.float32(corners)\n",
    "    # Define criteria = ( type, max_iter = 10 , epsilon = 1.0 )\n",
    "    criteria = (cv2.TERM_CRITERIA_EPS + cv2.TERM_CRITERIA_MAX_ITER, 10, 1.0)\n",
    "    _, labels, centers = cv2.kmeans(\n",
    "        corners, \n",
    "        k, \n",
    "        None, \n",
    "        criteria=criteria, \n",
    "        attempts=10, \n",
    "        flags=cv2.KMEANS_PP_CENTERS\n",
    "    )\n",
    "    return centers.reshape((-1,1))\n",
    "\n",
    "# points = np.random.normal(size=(100,2))\n",
    "#points = np.random.randint(25,50,(100,2))\n",
    "#points = np.float32(points)\n",
    "#plt.scatter(points[:,0], points[:,1])\n",
    "\n",
    "#centers = kmeans(points)\n",
    "#for center in centers:\n",
    "#    plt.plot(center[0], center[1], 'ro')\n",
    "#plt.show()"
   ]
  },
  {
   "cell_type": "code",
   "execution_count": 3,
   "metadata": {},
   "outputs": [],
   "source": [
    "def ft0(image):\n",
    "    return image.size\n",
    "# Returns the pixel size of the image\n",
    "def ft1(image):\n",
    "    return np.mean(image[:,:,0])\n",
    "# Returns the average of the red-channel pictures for the images\n",
    "def ft2(image):\n",
    "    return np.mean(image[:,:,1])\n",
    "# Returns the average of the green-channel pictures for the images\n",
    "def ft3(image):\n",
    "    return np.mean(image[:,:,2])\n",
    "# Returns the average of the blue-channel pictures for the images\n",
    "def ft4(image):\n",
    "    return image.shape[1]/image.shape[0];\n",
    "def ft5(image):\n",
    "    corners = find_corners(image)\n",
    "    return np.mean(corners[:,0] / image.shape[1])\n",
    "def ft6(image):\n",
    "    corners = find_corners(image)\n",
    "    return np.mean(corners[:,1] / image.shape[0])\n",
    "def ft7(image):\n",
    "    corners = find_corners(image)\n",
    "    return np.var(corners[:,0] / image.shape[1])\n",
    "def ft8(image):\n",
    "    corners = find_corners(image)\n",
    "    return np.var(corners[:,1] / image.shape[0])\n",
    "def ft9(image):\n",
    "    corners = find_corners(image)\n",
    "    return corners.shape[0]\n",
    "def ft10(image):\n",
    "    gray = cv2.cvtColor(image, cv2.COLOR_BGR2GRAY)\n",
    "    return np.mean(gray)\n",
    "def ft11(image, k):\n",
    "    print(k)\n",
    "    corners = find_corners(image)\n",
    "    clusters = kmeans(corners)\n",
    "    return clusters\n",
    "# def ft5()\n",
    "#Returns the aspect ratio of the image"
   ]
  },
  {
   "cell_type": "code",
   "execution_count": 4,
   "metadata": {},
   "outputs": [],
   "source": [
    "# Load in data\n",
    "starting_data = pd.read_hdf('starting_data.h5')"
   ]
  },
  {
   "cell_type": "code",
   "execution_count": 5,
   "metadata": {},
   "outputs": [
    {
     "name": "stdout",
     "output_type": "stream",
     "text": [
      "['airplanes', 'bear', 'blimp', 'comet', 'crab', 'dog', 'dolphin', 'giraffe', 'goat', 'gorilla', 'kangaroo', 'killer-whale', 'leopards', 'llama', 'penguin', 'porcupine', 'teddy-bear', 'triceratops', 'unicorn', 'zebra']\n"
     ]
    }
   ],
   "source": [
    "# For info\n",
    "data_file_path = file_path = os.path.join(os.getcwd(), 'data','20_categories_training')\n",
    "folders = os.listdir(data_file_path)\n",
    "folders.sort()\n",
    "folders = filter(lambda folder: not folder.startswith('.'), folders)\n",
    "categories = [dir_name for dir_name in folders]\n",
    "print(categories)"
   ]
  },
  {
   "cell_type": "code",
   "execution_count": 6,
   "metadata": {},
   "outputs": [],
   "source": [
    "# Identify images that are not correctly formatted\n",
    "bool_index = [len(np.shape(image))!=3 for image in starting_data['image']]\n",
    "remove_index = starting_data.loc[bool_index].index.tolist()\n",
    "# starting_data.drop(remove_index, inplace=True)\n",
    "\n",
    "# mapping 1 color channel images to 3 color channels\n",
    "def expand_1_channel(image):\n",
    "    if len(image.shape) == 3:\n",
    "        return image\n",
    "    return np.repeat(np.expand_dims(image, axis=2), 3, axis=2)\n",
    "starting_data['image'] = starting_data['image'].apply(expand_1_channel)"
   ]
  },
  {
   "cell_type": "code",
   "execution_count": 7,
   "metadata": {},
   "outputs": [],
   "source": [
    "# Create separate df for EDA\n",
    "eda_data = starting_data.copy()"
   ]
  },
  {
   "cell_type": "markdown",
   "metadata": {},
   "source": [
    "Define more features above, performing any EDA research below. We expect all external sources sited, and a couple significant different graphs indicating some form of EDA. "
   ]
  },
  {
   "cell_type": "markdown",
   "metadata": {},
   "source": [
    "<h4> Graphs </h4>"
   ]
  },
  {
   "cell_type": "code",
   "execution_count": 8,
   "metadata": {},
   "outputs": [],
   "source": [
    "# Exploration of data!\n",
    "\n",
    "# Examining trends in average color channel\n",
    "\n",
    "# Compute the average red-channel for each image\n",
    "eda_data['red_average'] = pd.Series([ft1(image) for image in eda_data['image']])\n",
    "\n",
    "# Compute the average green-channel for each image\n",
    "eda_data['green_average'] = pd.Series([ft2(image) for image in eda_data['image']])\n",
    "# a = starting_data.loc[0, 'image'][:,:,0]\n",
    "# print(a.shape)\n",
    "\n",
    "# Compute the average blue-channel for each image\n",
    "eda_data['blue_average'] = pd.Series([ft3(image) for image in eda_data['image']])"
   ]
  },
  {
   "cell_type": "code",
   "execution_count": 9,
   "metadata": {},
   "outputs": [],
   "source": [
    "# Reorganize color variable into hue column\n",
    "eda_data_colored = eda_data.copy()\n",
    "if not 'new_index' in eda_data_colored:\n",
    "    eda_data_colored.reset_index(inplace=True)\n",
    "    eda_data_colored.rename(columns={'index':'new_index'}, inplace=True)\n",
    "\n",
    "eda_data_colored = pd.melt(eda_data_colored, id_vars=['new_index', 'image', 'label'],\n",
    "                               value_vars=['red_average', 'green_average', 'blue_average'])\n",
    "eda_data_colored.rename(columns={'variable':'color'}, inplace=True)"
   ]
  },
  {
   "cell_type": "code",
   "execution_count": 10,
   "metadata": {
    "scrolled": false
   },
   "outputs": [
    {
     "data": {
      "text/plain": [
       "<matplotlib.figure.Figure at 0x7f2050b27240>"
      ]
     },
     "metadata": {},
     "output_type": "display_data"
    },
    {
     "data": {
      "image/png": "[encoded data removed]",
      "text/plain": [
       "<matplotlib.figure.Figure at 0x7f2168184eb8>"
      ]
     },
     "metadata": {},
     "output_type": "display_data"
    }
   ],
   "source": [
    "#sns.barplot(starting_data.groupby(['label']).mean().reset_index()['label'],\n",
    "#           starting_data.groupby(['label']).mean()['red_average'])\n",
    "#plt.xticks(np.arange(0,20), categories[2:], rotation=90)\n",
    "\n",
    "plt.figure(figsize=[12,12])\n",
    "sns.catplot(x='label', y='value', hue='color', data=eda_data_colored,\n",
    "            kind='bar', palette=['r','g','b'], height=6, aspect=2, ci=None)\n",
    "plt.xticks(np.arange(0,20), categories, rotation=90)\n",
    "plt.xlabel('Image Category')\n",
    "plt.ylabel('Average Color Channel Value')\n",
    "plt.title('Average Color Channel Values for Each Category of Image');"
   ]
  },
  {
   "cell_type": "code",
   "execution_count": 11,
   "metadata": {},
   "outputs": [],
   "source": [
    "# Exploration of data!\n",
    "\n",
    "# Compute the aspect ratio\n",
    "eda_data['aspect_ratio'] = pd.Series([ft4(image) for image in eda_data['image']])"
   ]
  },
  {
   "cell_type": "code",
   "execution_count": 12,
   "metadata": {},
   "outputs": [
    {
     "data": {
      "text/plain": [
       "Text(0.5,1,'Average Aspect Ratio for Each Category of Image')"
      ]
     },
     "execution_count": 12,
     "metadata": {},
     "output_type": "execute_result"
    },
    {
     "data": {
      "image/png": "[encoded data removed]",
      "text/plain": [
       "<matplotlib.figure.Figure at 0x7f2163c13550>"
      ]
     },
     "metadata": {},
     "output_type": "display_data"
    }
   ],
   "source": [
    "plt.figure(figsize=[12,12])\n",
    "sns.barplot(x=eda_data.groupby(['label']).mean().reset_index()['label'],\n",
    "            y=eda_data.groupby(['label']).mean()['aspect_ratio'])\n",
    "plt.xlabel('Image Category')\n",
    "plt.xticks(np.arange(0,20), categories, rotation=90)\n",
    "plt.ylabel('Average Aspect Ratio')\n",
    "plt.title('Average Aspect Ratio for Each Category of Image')"
   ]
  },
  {
   "cell_type": "code",
   "execution_count": 13,
   "metadata": {},
   "outputs": [],
   "source": [
    "# Exploration of data!\n",
    "\n",
    "# Determine the image size\n",
    "eda_data['image_size'] = pd.Series([ft0(image) for image in eda_data['image']])"
   ]
  },
  {
   "cell_type": "code",
   "execution_count": 14,
   "metadata": {},
   "outputs": [
    {
     "data": {
      "text/plain": [
       "Text(0.5,1,'Average Image Size for Each Category of Image')"
      ]
     },
     "execution_count": 14,
     "metadata": {},
     "output_type": "execute_result"
    },
    {
     "data": {
      "image/png": "[encoded data removed]",
      "text/plain": [
       "<matplotlib.figure.Figure at 0x7f2163b31588>"
      ]
     },
     "metadata": {},
     "output_type": "display_data"
    }
   ],
   "source": [
    "plt.figure(figsize=[12,12])\n",
    "sns.barplot(x=eda_data.groupby(['label']).mean().reset_index()['label'],\n",
    "            y=eda_data.groupby(['label']).mean()['image_size'])\n",
    "plt.xticks(np.arange(0,20), categories, rotation=90)\n",
    "plt.xlabel('Image Category')\n",
    "plt.ylabel('Average Image Size')\n",
    "plt.title('Average Image Size for Each Category of Image')"
   ]
  },
  {
   "cell_type": "code",
   "execution_count": 15,
   "metadata": {},
   "outputs": [],
   "source": [
    "# Exploration of data!\n",
    "\n",
    "# Define the corner features\n",
    "# Mean normalized position of corners\n",
    "eda_data['corners_avg_x'] = pd.Series([ft5(image) for image in eda_data['image']])\n",
    "eda_data['corners_avg_y'] = pd.Series([ft6(image) for image in eda_data['image']])\n",
    "\n",
    "# Variance of normalized position of corners\n",
    "eda_data['corners_var_x'] = pd.Series([ft7(image) for image in eda_data['image']])\n",
    "eda_data['corners_var_y'] = pd.Series([ft8(image) for image in eda_data['image']])\n",
    "\n",
    "# Number of corners\n",
    "eda_data['corners_num'] = pd.Series([ft9(image) for image in eda_data['image']])\n"
   ]
  },
  {
   "cell_type": "code",
   "execution_count": 16,
   "metadata": {},
   "outputs": [
    {
     "name": "stdout",
     "output_type": "stream",
     "text": [
      "0\n",
      "1\n",
      "2\n",
      "3\n",
      "4\n",
      "5\n",
      "6\n",
      "7\n",
      "8\n",
      "9\n",
      "10\n",
      "11\n",
      "12\n",
      "13\n",
      "14\n",
      "15\n",
      "16\n",
      "17\n",
      "18\n",
      "19\n",
      "20\n",
      "21\n",
      "22\n",
      "23\n",
      "24\n",
      "25\n",
      "26\n",
      "27\n",
      "28\n",
      "29\n",
      "30\n",
      "31\n",
      "32\n",
      "33\n",
      "34\n",
      "35\n",
      "36\n",
      "37\n",
      "38\n",
      "39\n",
      "40\n",
      "41\n",
      "42\n",
      "43\n",
      "44\n",
      "45\n",
      "46\n",
      "47\n",
      "48\n",
      "49\n",
      "50\n",
      "51\n",
      "52\n",
      "53\n",
      "54\n",
      "55\n",
      "56\n",
      "57\n",
      "58\n",
      "59\n",
      "60\n",
      "61\n",
      "62\n",
      "63\n",
      "64\n",
      "65\n",
      "66\n",
      "67\n",
      "68\n",
      "69\n",
      "70\n",
      "71\n",
      "72\n",
      "73\n",
      "74\n",
      "75\n",
      "76\n",
      "77\n",
      "78\n",
      "79\n",
      "80\n",
      "81\n",
      "82\n",
      "83\n",
      "84\n",
      "85\n",
      "86\n",
      "87\n",
      "88\n",
      "89\n",
      "90\n",
      "91\n",
      "92\n",
      "93\n",
      "94\n",
      "95\n",
      "96\n",
      "97\n",
      "98\n",
      "99\n",
      "100\n",
      "101\n",
      "102\n",
      "103\n",
      "104\n",
      "105\n",
      "106\n",
      "107\n",
      "108\n",
      "109\n",
      "110\n",
      "111\n",
      "112\n",
      "113\n",
      "114\n",
      "115\n",
      "116\n",
      "117\n",
      "118\n",
      "119\n",
      "120\n",
      "121\n",
      "122\n",
      "123\n",
      "124\n",
      "125\n",
      "126\n",
      "127\n",
      "128\n",
      "129\n",
      "130\n",
      "131\n",
      "132\n",
      "133\n",
      "134\n",
      "135\n",
      "136\n",
      "137\n",
      "138\n",
      "139\n",
      "140\n",
      "141\n",
      "142\n",
      "143\n",
      "144\n",
      "145\n",
      "146\n",
      "147\n",
      "148\n",
      "149\n",
      "150\n",
      "151\n",
      "152\n",
      "153\n",
      "154\n",
      "155\n",
      "156\n",
      "157\n",
      "158\n"
     ]
    },
    {
     "ename": "error",
     "evalue": "OpenCV(3.4.4) /io/opencv/modules/core/src/kmeans.cpp:241: error: (-215:Assertion failed) N >= K in function 'kmeans'\n",
     "output_type": "error",
     "traceback": [
      "\u001b[0;31m---------------------------------------------------------------------------\u001b[0m",
      "\u001b[0;31merror\u001b[0m                                     Traceback (most recent call last)",
      "\u001b[0;32m<ipython-input-16-9bf6ee2fa77f>\u001b[0m in \u001b[0;36m<module>\u001b[0;34m()\u001b[0m\n\u001b[1;32m      1\u001b[0m \u001b[0;31m# Kmeans cluster corners\u001b[0m\u001b[0;34m\u001b[0m\u001b[0;34m\u001b[0m\u001b[0m\n\u001b[0;32m----> 2\u001b[0;31m \u001b[0meda_data\u001b[0m\u001b[0;34m[\u001b[0m\u001b[0;34m'kmeans_clusters'\u001b[0m\u001b[0;34m]\u001b[0m \u001b[0;34m=\u001b[0m \u001b[0mpd\u001b[0m\u001b[0;34m.\u001b[0m\u001b[0mSeries\u001b[0m\u001b[0;34m(\u001b[0m\u001b[0;34m[\u001b[0m\u001b[0mft10\u001b[0m\u001b[0;34m(\u001b[0m\u001b[0mimage\u001b[0m\u001b[0;34m,\u001b[0m \u001b[0mk\u001b[0m\u001b[0;34m)\u001b[0m \u001b[0;32mfor\u001b[0m \u001b[0mk\u001b[0m\u001b[0;34m,\u001b[0m \u001b[0mimage\u001b[0m \u001b[0;32min\u001b[0m \u001b[0menumerate\u001b[0m\u001b[0;34m(\u001b[0m\u001b[0meda_data\u001b[0m\u001b[0;34m[\u001b[0m\u001b[0;34m'image'\u001b[0m\u001b[0;34m]\u001b[0m\u001b[0;34m)\u001b[0m\u001b[0;34m]\u001b[0m\u001b[0;34m)\u001b[0m\u001b[0;34m\u001b[0m\u001b[0m\n\u001b[0m",
      "\u001b[0;32m<ipython-input-16-9bf6ee2fa77f>\u001b[0m in \u001b[0;36m<listcomp>\u001b[0;34m(.0)\u001b[0m\n\u001b[1;32m      1\u001b[0m \u001b[0;31m# Kmeans cluster corners\u001b[0m\u001b[0;34m\u001b[0m\u001b[0;34m\u001b[0m\u001b[0m\n\u001b[0;32m----> 2\u001b[0;31m \u001b[0meda_data\u001b[0m\u001b[0;34m[\u001b[0m\u001b[0;34m'kmeans_clusters'\u001b[0m\u001b[0;34m]\u001b[0m \u001b[0;34m=\u001b[0m \u001b[0mpd\u001b[0m\u001b[0;34m.\u001b[0m\u001b[0mSeries\u001b[0m\u001b[0;34m(\u001b[0m\u001b[0;34m[\u001b[0m\u001b[0mft10\u001b[0m\u001b[0;34m(\u001b[0m\u001b[0mimage\u001b[0m\u001b[0;34m,\u001b[0m \u001b[0mk\u001b[0m\u001b[0;34m)\u001b[0m \u001b[0;32mfor\u001b[0m \u001b[0mk\u001b[0m\u001b[0;34m,\u001b[0m \u001b[0mimage\u001b[0m \u001b[0;32min\u001b[0m \u001b[0menumerate\u001b[0m\u001b[0;34m(\u001b[0m\u001b[0meda_data\u001b[0m\u001b[0;34m[\u001b[0m\u001b[0;34m'image'\u001b[0m\u001b[0;34m]\u001b[0m\u001b[0;34m)\u001b[0m\u001b[0;34m]\u001b[0m\u001b[0;34m)\u001b[0m\u001b[0;34m\u001b[0m\u001b[0m\n\u001b[0m",
      "\u001b[0;32m<ipython-input-3-fa44a861d996>\u001b[0m in \u001b[0;36mft10\u001b[0;34m(image, k)\u001b[0m\n\u001b[1;32m     31\u001b[0m     \u001b[0mprint\u001b[0m\u001b[0;34m(\u001b[0m\u001b[0mk\u001b[0m\u001b[0;34m)\u001b[0m\u001b[0;34m\u001b[0m\u001b[0m\n\u001b[1;32m     32\u001b[0m     \u001b[0mcorners\u001b[0m \u001b[0;34m=\u001b[0m \u001b[0mfind_corners\u001b[0m\u001b[0;34m(\u001b[0m\u001b[0mimage\u001b[0m\u001b[0;34m)\u001b[0m\u001b[0;34m\u001b[0m\u001b[0m\n\u001b[0;32m---> 33\u001b[0;31m     \u001b[0mclusters\u001b[0m \u001b[0;34m=\u001b[0m \u001b[0mkmeans\u001b[0m\u001b[0;34m(\u001b[0m\u001b[0mcorners\u001b[0m\u001b[0;34m)\u001b[0m\u001b[0;34m\u001b[0m\u001b[0m\n\u001b[0m\u001b[1;32m     34\u001b[0m     \u001b[0;32mreturn\u001b[0m \u001b[0mclusters\u001b[0m\u001b[0;34m\u001b[0m\u001b[0m\n\u001b[1;32m     35\u001b[0m \u001b[0;31m# def ft5()\u001b[0m\u001b[0;34m\u001b[0m\u001b[0;34m\u001b[0m\u001b[0m\n",
      "\u001b[0;32m<ipython-input-2-0ffbd9184023>\u001b[0m in \u001b[0;36mkmeans\u001b[0;34m(corners)\u001b[0m\n\u001b[1;32m     29\u001b[0m         \u001b[0mcriteria\u001b[0m\u001b[0;34m=\u001b[0m\u001b[0mcriteria\u001b[0m\u001b[0;34m,\u001b[0m\u001b[0;34m\u001b[0m\u001b[0m\n\u001b[1;32m     30\u001b[0m         \u001b[0mattempts\u001b[0m\u001b[0;34m=\u001b[0m\u001b[0;36m10\u001b[0m\u001b[0;34m,\u001b[0m\u001b[0;34m\u001b[0m\u001b[0m\n\u001b[0;32m---> 31\u001b[0;31m         \u001b[0mflags\u001b[0m\u001b[0;34m=\u001b[0m\u001b[0mcv2\u001b[0m\u001b[0;34m.\u001b[0m\u001b[0mKMEANS_PP_CENTERS\u001b[0m\u001b[0;34m\u001b[0m\u001b[0m\n\u001b[0m\u001b[1;32m     32\u001b[0m     )\n\u001b[1;32m     33\u001b[0m     \u001b[0;32mreturn\u001b[0m \u001b[0mcenters\u001b[0m\u001b[0;34m.\u001b[0m\u001b[0mreshape\u001b[0m\u001b[0;34m(\u001b[0m\u001b[0;34m(\u001b[0m\u001b[0;34m-\u001b[0m\u001b[0;36m1\u001b[0m\u001b[0;34m,\u001b[0m\u001b[0;36m1\u001b[0m\u001b[0;34m)\u001b[0m\u001b[0;34m)\u001b[0m\u001b[0;34m\u001b[0m\u001b[0m\n",
      "\u001b[0;31merror\u001b[0m: OpenCV(3.4.4) /io/opencv/modules/core/src/kmeans.cpp:241: error: (-215:Assertion failed) N >= K in function 'kmeans'\n"
     ]
    }
   ],
   "source": [
    "# Kmeans cluster corners\n",
    "eda_data['kmeans_clusters'] = pd.Series([ft11(image, k) for k, image in enumerate(eda_data['image'])])"
   ]
  },
  {
   "cell_type": "code",
   "execution_count": null,
   "metadata": {},
   "outputs": [],
   "source": [
    "skimage.io.imshow(eda_data['image'].iloc[184])"
   ]
  },
  {
   "cell_type": "code",
   "execution_count": null,
   "metadata": {},
   "outputs": [],
   "source": [
    "print(len(eda_data[starting_data['corners_num'] < 10]))"
   ]
  },
  {
   "cell_type": "code",
   "execution_count": null,
   "metadata": {},
   "outputs": [],
   "source": [
    "img = eda_data['image'].iloc[184]\n",
    "gray = cv2.cvtColor(img,cv2.COLOR_BGR2GRAY)\n",
    "\n",
    "# find Harris corners\n",
    "gray = np.float32(gray)\n",
    "dst = cv2.cornerHarris(gray,2,3,0.04)\n",
    "dst = cv2.dilate(dst,None)\n",
    "ret, dst = cv2.threshold(dst,0.01*dst.max(),255,0)\n",
    "dst = np.uint8(dst)\n",
    "\n",
    "# find centroids\n",
    "ret, labels, stats, centroids = cv2.connectedComponentsWithStats(dst)\n",
    "\n",
    "# define the criteria to stop and refine the corners\n",
    "criteria = (cv2.TERM_CRITERIA_EPS + cv2.TERM_CRITERIA_MAX_ITER, 100, 0.001)\n",
    "corners = cv2.cornerSubPix(gray,np.float32(centroids),(5,5),(-1,-1),criteria)\n",
    "\n",
    "# Now draw them\n",
    "res = np.hstack((centroids,corners))\n",
    "res = np.int0(res)\n",
    "img[res[:,1],res[:,0]]=[0,0,255]\n",
    "img[res[:,3],res[:,2]] = [0,255,0]\n",
    "\n",
    "plt.figure(figsize=[12,12])\n",
    "cv2.imwrite('test_image.png',img)\n",
    "skimage.io.imshow(img)"
   ]
  },
  {
   "cell_type": "code",
   "execution_count": null,
   "metadata": {},
   "outputs": [],
   "source": [
    "plt.figure(figsize=[12,12])\n",
    "label_dict = {0: 'zero', 1: 'one', 2: 'two', 3: 'three', 4: 'four', 5: 'five', 6: 'six', 7: 'seven', 8: 'eight', \n",
    "             9: 'nine', 10: 'ten', 11: 'eleven', 12: 'twelve', 13: 'thirteen', 14: 'fourteen', 15: 'fifteen', \n",
    "             16: 'sixteen', 17: 'seventeen', 18: 'eighteen', 19: 'nineteen'}\n",
    "eda_data['label_string'] = eda_data['label'].map(label_dict)\n",
    "sns.scatterplot(x='corners_avg_x', y='corners_avg_y', data=eda_data, hue='label_string')"
   ]
  },
  {
   "cell_type": "code",
   "execution_count": null,
   "metadata": {},
   "outputs": [],
   "source": [
    "plt.figure(figsize=[12,12])\n",
    "sns.scatterplot(x='corners_var_x', y='corners_var_y', data=eda_data, hue='label_string')"
   ]
  },
  {
   "cell_type": "code",
   "execution_count": null,
   "metadata": {},
   "outputs": [],
   "source": [
    "plt.figure(figsize=[12,12])\n",
    "sns.barplot(x=eda_data.groupby(['label']).mean().reset_index()['label'],\n",
    "            y=eda_data.groupby(['label']).mean()['corners_num'])\n",
    "plt.xticks(np.arange(0,20), categories, rotation=90);"
   ]
  },
  {
   "cell_type": "markdown",
   "metadata": {},
   "source": [
    "<h4> Sources </h4>"
   ]
  },
  {
   "cell_type": "code",
   "execution_count": null,
   "metadata": {},
   "outputs": [],
   "source": []
  },
  {
   "cell_type": "markdown",
   "metadata": {},
   "source": [
    "<h4> DataFrame Creation </h4>"
   ]
  },
  {
   "cell_type": "code",
   "execution_count": 17,
   "metadata": {},
   "outputs": [],
   "source": [
    "def feature_frame(df):\n",
    "    \n",
    "    df['ft1'] = pd.Series([ft1(image) for image in df['image']])\n",
    "    df['ft2'] = pd.Series([ft2(image) for image in df['image']])\n",
    "    df['ft3'] = pd.Series([ft3(image) for image in df['image']])\n",
    "    df['ft4'] = pd.Series([ft4(image) for image in df['image']])\n",
    "    df['ft5'] = pd.Series([ft5(image) for image in df['image']])\n",
    "    df['ft6'] = pd.Series([ft6(image) for image in df['image']])\n",
    "    df['ft7'] = pd.Series([ft7(image) for image in df['image']])\n",
    "    df['ft8'] = pd.Series([ft8(image) for image in df['image']])\n",
    "    df['ft9'] = pd.Series([ft9(image) for image in df['image']])\n",
    "    df['ft10'] = pd.Series([ft10(image) for image in df['image']])\n",
    "    \n",
    "    return df\n",
    "    #Returns data-frame with all the features now inside, and calculated\n"
   ]
  },
  {
   "cell_type": "code",
   "execution_count": 18,
   "metadata": {},
   "outputs": [
    {
     "name": "stderr",
     "output_type": "stream",
     "text": [
      "/home/chriscorrea14/miniconda2/envs/data100/lib/python3.6/site-packages/pandas/core/generic.py:1996: PerformanceWarning: \n",
      "your performance may suffer as PyTables will pickle object types that it cannot\n",
      "map directly to c-types [inferred_type->mixed-integer,key->block2_values] [items->['image', 'label']]\n",
      "\n",
      "  return pytables.to_hdf(path_or_buf, key, self, **kwargs)\n"
     ]
    }
   ],
   "source": [
    "training_data = feature_frame(starting_data)\n",
    "training_data.to_hdf('training_data.h5', key='df', mode='w')"
   ]
  },
  {
   "cell_type": "code",
   "execution_count": 19,
   "metadata": {},
   "outputs": [
    {
     "data": {
      "text/html": [
       "<div>\n",
       "<style scoped>\n",
       "    .dataframe tbody tr th:only-of-type {\n",
       "        vertical-align: middle;\n",
       "    }\n",
       "\n",
       "    .dataframe tbody tr th {\n",
       "        vertical-align: top;\n",
       "    }\n",
       "\n",
       "    .dataframe thead th {\n",
       "        text-align: right;\n",
       "    }\n",
       "</style>\n",
       "<table border=\"1\" class=\"dataframe\">\n",
       "  <thead>\n",
       "    <tr style=\"text-align: right;\">\n",
       "      <th></th>\n",
       "      <th>image</th>\n",
       "      <th>label</th>\n",
       "      <th>ft1</th>\n",
       "      <th>ft2</th>\n",
       "      <th>ft3</th>\n",
       "      <th>ft4</th>\n",
       "      <th>ft5</th>\n",
       "      <th>ft6</th>\n",
       "      <th>ft7</th>\n",
       "      <th>ft8</th>\n",
       "      <th>ft9</th>\n",
       "    </tr>\n",
       "  </thead>\n",
       "  <tbody>\n",
       "    <tr>\n",
       "      <th>0</th>\n",
       "      <td>[[[255, 255, 255], [255, 255, 255], [255, 255,...</td>\n",
       "      <td>0</td>\n",
       "      <td>183.353871</td>\n",
       "      <td>172.750792</td>\n",
       "      <td>158.170426</td>\n",
       "      <td>2.703448</td>\n",
       "      <td>0.429701</td>\n",
       "      <td>0.488443</td>\n",
       "      <td>0.039089</td>\n",
       "      <td>0.028354</td>\n",
       "      <td>39</td>\n",
       "    </tr>\n",
       "    <tr>\n",
       "      <th>1</th>\n",
       "      <td>[[[255, 255, 255], [255, 255, 255], [255, 255,...</td>\n",
       "      <td>0</td>\n",
       "      <td>175.369108</td>\n",
       "      <td>173.519216</td>\n",
       "      <td>155.730257</td>\n",
       "      <td>2.130435</td>\n",
       "      <td>0.514157</td>\n",
       "      <td>0.509131</td>\n",
       "      <td>0.064389</td>\n",
       "      <td>0.020408</td>\n",
       "      <td>85</td>\n",
       "    </tr>\n",
       "    <tr>\n",
       "      <th>2</th>\n",
       "      <td>[[[255, 255, 255], [255, 255, 255], [255, 255,...</td>\n",
       "      <td>0</td>\n",
       "      <td>118.945767</td>\n",
       "      <td>128.029098</td>\n",
       "      <td>107.586409</td>\n",
       "      <td>2.541935</td>\n",
       "      <td>0.490441</td>\n",
       "      <td>0.461284</td>\n",
       "      <td>0.068389</td>\n",
       "      <td>0.043101</td>\n",
       "      <td>128</td>\n",
       "    </tr>\n",
       "    <tr>\n",
       "      <th>3</th>\n",
       "      <td>[[[252, 251, 247], [252, 251, 247], [252, 251,...</td>\n",
       "      <td>0</td>\n",
       "      <td>169.865545</td>\n",
       "      <td>163.073735</td>\n",
       "      <td>147.204053</td>\n",
       "      <td>2.214689</td>\n",
       "      <td>0.417252</td>\n",
       "      <td>0.593149</td>\n",
       "      <td>0.068357</td>\n",
       "      <td>0.025217</td>\n",
       "      <td>75</td>\n",
       "    </tr>\n",
       "    <tr>\n",
       "      <th>4</th>\n",
       "      <td>[[[255, 255, 255], [255, 255, 255], [255, 255,...</td>\n",
       "      <td>0</td>\n",
       "      <td>169.505337</td>\n",
       "      <td>160.140544</td>\n",
       "      <td>155.502016</td>\n",
       "      <td>2.551948</td>\n",
       "      <td>0.534490</td>\n",
       "      <td>0.584889</td>\n",
       "      <td>0.054607</td>\n",
       "      <td>0.022685</td>\n",
       "      <td>40</td>\n",
       "    </tr>\n",
       "  </tbody>\n",
       "</table>\n",
       "</div>"
      ],
      "text/plain": [
       "                                               image label         ft1  \\\n",
       "0  [[[255, 255, 255], [255, 255, 255], [255, 255,...     0  183.353871   \n",
       "1  [[[255, 255, 255], [255, 255, 255], [255, 255,...     0  175.369108   \n",
       "2  [[[255, 255, 255], [255, 255, 255], [255, 255,...     0  118.945767   \n",
       "3  [[[252, 251, 247], [252, 251, 247], [252, 251,...     0  169.865545   \n",
       "4  [[[255, 255, 255], [255, 255, 255], [255, 255,...     0  169.505337   \n",
       "\n",
       "          ft2         ft3       ft4       ft5       ft6       ft7       ft8  \\\n",
       "0  172.750792  158.170426  2.703448  0.429701  0.488443  0.039089  0.028354   \n",
       "1  173.519216  155.730257  2.130435  0.514157  0.509131  0.064389  0.020408   \n",
       "2  128.029098  107.586409  2.541935  0.490441  0.461284  0.068389  0.043101   \n",
       "3  163.073735  147.204053  2.214689  0.417252  0.593149  0.068357  0.025217   \n",
       "4  160.140544  155.502016  2.551948  0.534490  0.584889  0.054607  0.022685   \n",
       "\n",
       "   ft9  \n",
       "0   39  \n",
       "1   85  \n",
       "2  128  \n",
       "3   75  \n",
       "4   40  "
      ]
     },
     "execution_count": 19,
     "metadata": {},
     "output_type": "execute_result"
    }
   ],
   "source": [
    "training_data.head()"
   ]
  },
  {
   "cell_type": "code",
   "execution_count": 20,
   "metadata": {},
   "outputs": [
    {
     "ename": "NameError",
     "evalue": "name 'data_from_nb1' is not defined",
     "output_type": "error",
     "traceback": [
      "\u001b[0;31m---------------------------------------------------------------------------\u001b[0m",
      "\u001b[0;31mNameError\u001b[0m                                 Traceback (most recent call last)",
      "\u001b[0;32m<ipython-input-20-87bdb7e363c7>\u001b[0m in \u001b[0;36m<module>\u001b[0;34m()\u001b[0m\n\u001b[0;32m----> 1\u001b[0;31m \u001b[0mfeature_frame\u001b[0m\u001b[0;34m(\u001b[0m\u001b[0mdata_from_nb1\u001b[0m\u001b[0;34m)\u001b[0m\u001b[0;34m\u001b[0m\u001b[0m\n\u001b[0m",
      "\u001b[0;31mNameError\u001b[0m: name 'data_from_nb1' is not defined"
     ]
    }
   ],
   "source": [
    "feature_frame(data_from_nb1)"
   ]
  },
  {
   "cell_type": "code",
   "execution_count": null,
   "metadata": {},
   "outputs": [],
   "source": []
  }
 ],
 "metadata": {
  "kernelspec": {
   "display_name": "Python 3",
   "language": "python",
   "name": "python3"
  },
  "language_info": {
   "codemirror_mode": {
    "name": "ipython",
    "version": 3
   },
   "file_extension": ".py",
   "mimetype": "text/x-python",
   "name": "python",
   "nbconvert_exporter": "python",
   "pygments_lexer": "ipython3",
   "version": "3.6.4"
  }
 },
 "nbformat": 4,
 "nbformat_minor": 2
}
