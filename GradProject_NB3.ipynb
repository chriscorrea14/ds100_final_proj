{
 "cells": [
  {
   "cell_type": "markdown",
   "metadata": {},
   "source": [
    "\n",
    "<h1> DS200A Computer Vision Assignment</h1>"
   ]
  },
  {
   "cell_type": "markdown",
   "metadata": {},
   "source": [
    "<h2>  Part Three: Training Models </h2>\t"
   ]
  },
  {
   "cell_type": "code",
   "execution_count": 2,
   "metadata": {},
   "outputs": [],
   "source": [
    "import pandas as pd\n",
    "import numpy as np\n",
    "import matplotlib as plt\n",
    "import sklearn"
   ]
  },
  {
   "cell_type": "code",
   "execution_count": 39,
   "metadata": {},
   "outputs": [],
   "source": [
    "def train_test_split(df):\n",
    "    \n",
    "    return df1, df2\n",
    "#Split the data into a training set, and test set \n",
    "def accuracy(pred, actual):\n",
    "    return 0\n",
    "# Calculate the accuracy percentage of the predicted values"
   ]
  },
  {
   "cell_type": "code",
   "execution_count": 3,
   "metadata": {},
   "outputs": [],
   "source": [
    "training_data = pd.read_hdf('training_data.h5')"
   ]
  },
  {
   "cell_type": "code",
   "execution_count": 4,
   "metadata": {},
   "outputs": [
    {
     "data": {
      "text/html": [
       "<div>\n",
       "<style scoped>\n",
       "    .dataframe tbody tr th:only-of-type {\n",
       "        vertical-align: middle;\n",
       "    }\n",
       "\n",
       "    .dataframe tbody tr th {\n",
       "        vertical-align: top;\n",
       "    }\n",
       "\n",
       "    .dataframe thead th {\n",
       "        text-align: right;\n",
       "    }\n",
       "</style>\n",
       "<table border=\"1\" class=\"dataframe\">\n",
       "  <thead>\n",
       "    <tr style=\"text-align: right;\">\n",
       "      <th></th>\n",
       "      <th>image</th>\n",
       "      <th>label</th>\n",
       "      <th>ft1</th>\n",
       "      <th>ft2</th>\n",
       "      <th>ft3</th>\n",
       "      <th>ft4</th>\n",
       "      <th>ft5</th>\n",
       "      <th>ft6</th>\n",
       "      <th>ft7</th>\n",
       "      <th>ft8</th>\n",
       "      <th>ft9</th>\n",
       "    </tr>\n",
       "  </thead>\n",
       "  <tbody>\n",
       "    <tr>\n",
       "      <th>0</th>\n",
       "      <td>[[[255, 255, 255], [255, 255, 255], [255, 255,...</td>\n",
       "      <td>0</td>\n",
       "      <td>183.355727</td>\n",
       "      <td>176.750337</td>\n",
       "      <td>149.151581</td>\n",
       "      <td>2.426829</td>\n",
       "      <td>0.563561</td>\n",
       "      <td>0.540621</td>\n",
       "      <td>0.061394</td>\n",
       "      <td>0.024742</td>\n",
       "      <td>71</td>\n",
       "    </tr>\n",
       "    <tr>\n",
       "      <th>1</th>\n",
       "      <td>[[[255, 255, 255], [255, 255, 255], [255, 255,...</td>\n",
       "      <td>0</td>\n",
       "      <td>210.739822</td>\n",
       "      <td>189.280101</td>\n",
       "      <td>164.805242</td>\n",
       "      <td>2.179348</td>\n",
       "      <td>0.547861</td>\n",
       "      <td>0.540856</td>\n",
       "      <td>0.043255</td>\n",
       "      <td>0.019139</td>\n",
       "      <td>38</td>\n",
       "    </tr>\n",
       "    <tr>\n",
       "      <th>2</th>\n",
       "      <td>[[[255, 255, 255], [255, 255, 255], [255, 255,...</td>\n",
       "      <td>0</td>\n",
       "      <td>170.123787</td>\n",
       "      <td>147.788681</td>\n",
       "      <td>111.753798</td>\n",
       "      <td>2.381818</td>\n",
       "      <td>0.485925</td>\n",
       "      <td>0.527792</td>\n",
       "      <td>0.051072</td>\n",
       "      <td>0.034862</td>\n",
       "      <td>82</td>\n",
       "    </tr>\n",
       "    <tr>\n",
       "      <th>3</th>\n",
       "      <td>[[[174, 190, 187], [173, 189, 186], [172, 188,...</td>\n",
       "      <td>0</td>\n",
       "      <td>152.159752</td>\n",
       "      <td>132.648316</td>\n",
       "      <td>77.917303</td>\n",
       "      <td>2.311765</td>\n",
       "      <td>0.443575</td>\n",
       "      <td>0.442804</td>\n",
       "      <td>0.059753</td>\n",
       "      <td>0.038761</td>\n",
       "      <td>126</td>\n",
       "    </tr>\n",
       "    <tr>\n",
       "      <th>4</th>\n",
       "      <td>[[[255, 255, 255], [255, 255, 255], [255, 255,...</td>\n",
       "      <td>0</td>\n",
       "      <td>147.397886</td>\n",
       "      <td>150.504790</td>\n",
       "      <td>86.252963</td>\n",
       "      <td>2.244318</td>\n",
       "      <td>0.479493</td>\n",
       "      <td>0.390340</td>\n",
       "      <td>0.046278</td>\n",
       "      <td>0.066373</td>\n",
       "      <td>93</td>\n",
       "    </tr>\n",
       "  </tbody>\n",
       "</table>\n",
       "</div>"
      ],
      "text/plain": [
       "                                               image label         ft1  \\\n",
       "0  [[[255, 255, 255], [255, 255, 255], [255, 255,...     0  183.355727   \n",
       "1  [[[255, 255, 255], [255, 255, 255], [255, 255,...     0  210.739822   \n",
       "2  [[[255, 255, 255], [255, 255, 255], [255, 255,...     0  170.123787   \n",
       "3  [[[174, 190, 187], [173, 189, 186], [172, 188,...     0  152.159752   \n",
       "4  [[[255, 255, 255], [255, 255, 255], [255, 255,...     0  147.397886   \n",
       "\n",
       "          ft2         ft3       ft4       ft5       ft6       ft7       ft8  \\\n",
       "0  176.750337  149.151581  2.426829  0.563561  0.540621  0.061394  0.024742   \n",
       "1  189.280101  164.805242  2.179348  0.547861  0.540856  0.043255  0.019139   \n",
       "2  147.788681  111.753798  2.381818  0.485925  0.527792  0.051072  0.034862   \n",
       "3  132.648316   77.917303  2.311765  0.443575  0.442804  0.059753  0.038761   \n",
       "4  150.504790   86.252963  2.244318  0.479493  0.390340  0.046278  0.066373   \n",
       "\n",
       "   ft9  \n",
       "0   71  \n",
       "1   38  \n",
       "2   82  \n",
       "3  126  \n",
       "4   93  "
      ]
     },
     "execution_count": 4,
     "metadata": {},
     "output_type": "execute_result"
    }
   ],
   "source": [
    "training_data.head()"
   ]
  },
  {
   "cell_type": "markdown",
   "metadata": {},
   "source": [
    "<h3>  Train models using all of the following methods below. Be sure to drop the actual image column, and the encoding</h3>\tTake note of the differences in accuracy, and methods.\n"
   ]
  },
  {
   "cell_type": "markdown",
   "metadata": {},
   "source": [
    "Logistic Regression"
   ]
  },
  {
   "cell_type": "code",
   "execution_count": null,
   "metadata": {},
   "outputs": [],
   "source": []
  },
  {
   "cell_type": "markdown",
   "metadata": {},
   "source": [
    "K-nearest Neighbors"
   ]
  },
  {
   "cell_type": "code",
   "execution_count": null,
   "metadata": {},
   "outputs": [],
   "source": []
  },
  {
   "cell_type": "markdown",
   "metadata": {},
   "source": [
    "Random Forest"
   ]
  },
  {
   "cell_type": "code",
   "execution_count": null,
   "metadata": {},
   "outputs": [],
   "source": []
  },
  {
   "cell_type": "markdown",
   "metadata": {},
   "source": [
    "Support Vector Machine"
   ]
  },
  {
   "cell_type": "code",
   "execution_count": null,
   "metadata": {},
   "outputs": [],
   "source": []
  }
 ],
 "metadata": {
  "kernelspec": {
   "display_name": "Python 3",
   "language": "python",
   "name": "python3"
  },
  "language_info": {
   "codemirror_mode": {
    "name": "ipython",
    "version": 3
   },
   "file_extension": ".py",
   "mimetype": "text/x-python",
   "name": "python",
   "nbconvert_exporter": "python",
   "pygments_lexer": "ipython3",
   "version": "3.6.4"
  }
 },
 "nbformat": 4,
 "nbformat_minor": 2
}
