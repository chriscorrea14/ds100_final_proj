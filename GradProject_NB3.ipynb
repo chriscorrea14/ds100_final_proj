{
 "cells": [
  {
   "cell_type": "markdown",
   "metadata": {},
   "source": [
    "\n",
    "<h1> DS200A Computer Vision Assignment</h1>"
   ]
  },
  {
   "cell_type": "markdown",
   "metadata": {},
   "source": [
    "<h2>  Part Three: Training Models </h2>\t"
   ]
  },
  {
   "cell_type": "code",
   "execution_count": 8,
   "metadata": {},
   "outputs": [],
   "source": [
    "import pandas as pd\n",
    "import numpy as np\n",
    "import matplotlib as plt\n",
    "import sklearn\n",
    "from sklearn import model_selection\n",
    "from sklearn.model_selection import GridSearchCV"
   ]
  },
  {
   "cell_type": "code",
   "execution_count": 9,
   "metadata": {},
   "outputs": [],
   "source": [
    "def train_test_split(df):\n",
    "    train_df, val_df = sklearn.model_selection.train_test_split(df, test_size=0.2)\n",
    "    return train_df, val_df\n",
    "\n",
    "#Split the data into a training set, and test set \n",
    "def accuracy(pred, actual):\n",
    "    return np.mean(pred == actual)\n",
    "# Calculate the accuracy percentage of the predicted values\n",
    "def separate_features(df):\n",
    "    feature_df = df.iloc[:,2:]\n",
    "    labels_df = df.iloc[:,1]\n",
    "    return feature_df, labels_df"
   ]
  },
  {
   "cell_type": "code",
   "execution_count": 10,
   "metadata": {},
   "outputs": [],
   "source": [
    "training_data = pd.read_hdf('training_data.h5')"
   ]
  },
  {
   "cell_type": "code",
   "execution_count": 11,
   "metadata": {},
   "outputs": [
    {
     "data": {
      "text/html": [
       "<div>\n",
       "<style scoped>\n",
       "    .dataframe tbody tr th:only-of-type {\n",
       "        vertical-align: middle;\n",
       "    }\n",
       "\n",
       "    .dataframe tbody tr th {\n",
       "        vertical-align: top;\n",
       "    }\n",
       "\n",
       "    .dataframe thead th {\n",
       "        text-align: right;\n",
       "    }\n",
       "</style>\n",
       "<table border=\"1\" class=\"dataframe\">\n",
       "  <thead>\n",
       "    <tr style=\"text-align: right;\">\n",
       "      <th></th>\n",
       "      <th>image</th>\n",
       "      <th>label</th>\n",
       "      <th>ft1</th>\n",
       "      <th>ft2</th>\n",
       "      <th>ft3</th>\n",
       "      <th>ft4</th>\n",
       "      <th>ft5</th>\n",
       "      <th>ft6</th>\n",
       "      <th>ft7</th>\n",
       "      <th>ft8</th>\n",
       "      <th>ft9</th>\n",
       "      <th>ft10</th>\n",
       "      <th>ft11</th>\n",
       "      <th>ft12</th>\n",
       "      <th>ft13</th>\n",
       "      <th>ft14</th>\n",
       "      <th>ft15</th>\n",
       "      <th>ft16</th>\n",
       "      <th>ft17</th>\n",
       "    </tr>\n",
       "  </thead>\n",
       "  <tbody>\n",
       "    <tr>\n",
       "      <th>0</th>\n",
       "      <td>[[[255, 255, 255], [255, 255, 255], [255, 255,...</td>\n",
       "      <td>0</td>\n",
       "      <td>183.355727</td>\n",
       "      <td>176.750337</td>\n",
       "      <td>149.151581</td>\n",
       "      <td>2.426829</td>\n",
       "      <td>0.563561</td>\n",
       "      <td>0.540621</td>\n",
       "      <td>0.061394</td>\n",
       "      <td>0.024742</td>\n",
       "      <td>71</td>\n",
       "      <td>169.244714</td>\n",
       "      <td>0.566834</td>\n",
       "      <td>0.536543</td>\n",
       "      <td>164</td>\n",
       "      <td>0.771119</td>\n",
       "      <td>0.503230</td>\n",
       "      <td>2</td>\n",
       "      <td>0.000721</td>\n",
       "    </tr>\n",
       "    <tr>\n",
       "      <th>1</th>\n",
       "      <td>[[[255, 255, 255], [255, 255, 255], [255, 255,...</td>\n",
       "      <td>0</td>\n",
       "      <td>210.739822</td>\n",
       "      <td>189.280101</td>\n",
       "      <td>164.805242</td>\n",
       "      <td>2.179348</td>\n",
       "      <td>0.547861</td>\n",
       "      <td>0.540856</td>\n",
       "      <td>0.043255</td>\n",
       "      <td>0.019139</td>\n",
       "      <td>38</td>\n",
       "      <td>184.393053</td>\n",
       "      <td>0.596161</td>\n",
       "      <td>0.564449</td>\n",
       "      <td>184</td>\n",
       "      <td>0.623133</td>\n",
       "      <td>0.499767</td>\n",
       "      <td>3</td>\n",
       "      <td>0.000890</td>\n",
       "    </tr>\n",
       "    <tr>\n",
       "      <th>2</th>\n",
       "      <td>[[[255, 255, 255], [255, 255, 255], [255, 255,...</td>\n",
       "      <td>0</td>\n",
       "      <td>170.123787</td>\n",
       "      <td>147.788681</td>\n",
       "      <td>111.753798</td>\n",
       "      <td>2.381818</td>\n",
       "      <td>0.485925</td>\n",
       "      <td>0.527792</td>\n",
       "      <td>0.051072</td>\n",
       "      <td>0.034862</td>\n",
       "      <td>82</td>\n",
       "      <td>139.542571</td>\n",
       "      <td>0.523533</td>\n",
       "      <td>0.522927</td>\n",
       "      <td>165</td>\n",
       "      <td>0.547149</td>\n",
       "      <td>0.522024</td>\n",
       "      <td>2</td>\n",
       "      <td>0.001487</td>\n",
       "    </tr>\n",
       "    <tr>\n",
       "      <th>3</th>\n",
       "      <td>[[[174, 190, 187], [173, 189, 186], [172, 188,...</td>\n",
       "      <td>0</td>\n",
       "      <td>152.159752</td>\n",
       "      <td>132.648316</td>\n",
       "      <td>77.917303</td>\n",
       "      <td>2.311765</td>\n",
       "      <td>0.443575</td>\n",
       "      <td>0.442804</td>\n",
       "      <td>0.059753</td>\n",
       "      <td>0.038761</td>\n",
       "      <td>126</td>\n",
       "      <td>118.502754</td>\n",
       "      <td>0.433735</td>\n",
       "      <td>0.430138</td>\n",
       "      <td>170</td>\n",
       "      <td>0.528061</td>\n",
       "      <td>0.476660</td>\n",
       "      <td>6</td>\n",
       "      <td>0.001969</td>\n",
       "    </tr>\n",
       "    <tr>\n",
       "      <th>4</th>\n",
       "      <td>[[[255, 255, 255], [255, 255, 255], [255, 255,...</td>\n",
       "      <td>0</td>\n",
       "      <td>147.397886</td>\n",
       "      <td>150.504790</td>\n",
       "      <td>86.252963</td>\n",
       "      <td>2.244318</td>\n",
       "      <td>0.479493</td>\n",
       "      <td>0.390340</td>\n",
       "      <td>0.046278</td>\n",
       "      <td>0.066373</td>\n",
       "      <td>93</td>\n",
       "      <td>130.929330</td>\n",
       "      <td>0.500365</td>\n",
       "      <td>0.399539</td>\n",
       "      <td>176</td>\n",
       "      <td>0.500000</td>\n",
       "      <td>0.500000</td>\n",
       "      <td>0</td>\n",
       "      <td>0.000000</td>\n",
       "    </tr>\n",
       "  </tbody>\n",
       "</table>\n",
       "</div>"
      ],
      "text/plain": [
       "                                               image label         ft1  \\\n",
       "0  [[[255, 255, 255], [255, 255, 255], [255, 255,...     0  183.355727   \n",
       "1  [[[255, 255, 255], [255, 255, 255], [255, 255,...     0  210.739822   \n",
       "2  [[[255, 255, 255], [255, 255, 255], [255, 255,...     0  170.123787   \n",
       "3  [[[174, 190, 187], [173, 189, 186], [172, 188,...     0  152.159752   \n",
       "4  [[[255, 255, 255], [255, 255, 255], [255, 255,...     0  147.397886   \n",
       "\n",
       "          ft2         ft3       ft4       ft5       ft6       ft7       ft8  \\\n",
       "0  176.750337  149.151581  2.426829  0.563561  0.540621  0.061394  0.024742   \n",
       "1  189.280101  164.805242  2.179348  0.547861  0.540856  0.043255  0.019139   \n",
       "2  147.788681  111.753798  2.381818  0.485925  0.527792  0.051072  0.034862   \n",
       "3  132.648316   77.917303  2.311765  0.443575  0.442804  0.059753  0.038761   \n",
       "4  150.504790   86.252963  2.244318  0.479493  0.390340  0.046278  0.066373   \n",
       "\n",
       "   ft9        ft10      ft11      ft12  ft13      ft14      ft15  ft16  \\\n",
       "0   71  169.244714  0.566834  0.536543   164  0.771119  0.503230     2   \n",
       "1   38  184.393053  0.596161  0.564449   184  0.623133  0.499767     3   \n",
       "2   82  139.542571  0.523533  0.522927   165  0.547149  0.522024     2   \n",
       "3  126  118.502754  0.433735  0.430138   170  0.528061  0.476660     6   \n",
       "4   93  130.929330  0.500365  0.399539   176  0.500000  0.500000     0   \n",
       "\n",
       "       ft17  \n",
       "0  0.000721  \n",
       "1  0.000890  \n",
       "2  0.001487  \n",
       "3  0.001969  \n",
       "4  0.000000  "
      ]
     },
     "execution_count": 11,
     "metadata": {},
     "output_type": "execute_result"
    }
   ],
   "source": [
    "training_data.head()"
   ]
  },
  {
   "cell_type": "markdown",
   "metadata": {},
   "source": [
    "<h3>  Train models using all of the following methods below. Be sure to drop the actual image column, and the encoding</h3>\tTake note of the differences in accuracy, and methods.\n"
   ]
  },
  {
   "cell_type": "code",
   "execution_count": 12,
   "metadata": {},
   "outputs": [],
   "source": [
    "train, val = train_test_split(training_data)\n",
    "X_train, y_train = separate_features(train)\n",
    "X_train.reset_index().drop(columns=['index'])\n",
    "y_train.reset_index().drop(columns=['index'])\n",
    "y_train = y_train.astype('int')\n",
    "\n",
    "X_val, y_val = separate_features(val)\n",
    "X_val.reset_index().drop(columns=['index'])\n",
    "y_val.reset_index().drop(columns=['index'])\n",
    "y_val = y_val.astype('int')"
   ]
  },
  {
   "cell_type": "code",
   "execution_count": 13,
   "metadata": {},
   "outputs": [],
   "source": [
    "import warnings\n",
    "warnings.filterwarnings(\"ignore\")\n",
    "\n",
    "def cross_val(model, k, feature_data, label_data):\n",
    "    \n",
    "    kf = sklearn.model_selection.KFold(n_splits = k)\n",
    "    kf.get_n_splits(feature_data)\n",
    "    \n",
    "    accuracy_scores = np.empty([k, 1])\n",
    "    model_params = [{} for i in range(feature_data.shape[1])]\n",
    "        \n",
    "    for i, (train_index, test_index) in enumerate(kf.split(feature_data)):\n",
    "        model.fit(feature_data.iloc[train_index], label_data.iloc[train_index])\n",
    "        label_predict = model.predict(feature_data.iloc[test_index])\n",
    "        accuracy_scores[i] = accuracy(label_data.iloc[test_index], label_predict)\n",
    "        model_params[i] = model.get_params()\n",
    "        print(accuracy_scores[i])\n",
    "    \n",
    "    return model_params, accuracy_scores"
   ]
  },
  {
   "cell_type": "markdown",
   "metadata": {},
   "source": [
    "Logistic Regression"
   ]
  },
  {
   "cell_type": "code",
   "execution_count": 14,
   "metadata": {},
   "outputs": [],
   "source": [
    "from sklearn.linear_model import LogisticRegression\n",
    "\n",
    "lreg = LogisticRegression(random_state=0, penalty='l2', C=1)\n",
    "params = {'C': [1e-1, 1, 10, 100]}\n",
    "grid_lreg = GridSearchCV(lreg, params, cv=5)\n",
    "grid_lreg.fit(X_train, y_train);"
   ]
  },
  {
   "cell_type": "markdown",
   "metadata": {},
   "source": [
    "K-nearest Neighbors"
   ]
  },
  {
   "cell_type": "code",
   "execution_count": 15,
   "metadata": {},
   "outputs": [],
   "source": [
    "from sklearn.neighbors import KNeighborsClassifier\n",
    "\n",
    "params = {'n_neighbors': [1,2,4,8], 'algorithm': ['ball_tree', 'kd_tree']}\n",
    "neigh = KNeighborsClassifier()\n",
    "grid_neigh = GridSearchCV(neigh, params, cv=5)\n",
    "grid_neigh.fit(X_train, y_train);"
   ]
  },
  {
   "cell_type": "markdown",
   "metadata": {},
   "source": [
    "Random Forest"
   ]
  },
  {
   "cell_type": "code",
   "execution_count": 16,
   "metadata": {},
   "outputs": [],
   "source": [
    "from sklearn.ensemble import RandomForestClassifier\n",
    "\n",
    "rand_forest = RandomForestClassifier(\n",
    "    random_state=0, \n",
    "    n_estimators=25, \n",
    "    max_depth=5, \n",
    "    bootstrap=True\n",
    ")\n",
    "params = {'n_estimators': [25,75,150], 'max_depth': [10,20,80]}\n",
    "grid_rand_forest = GridSearchCV(rand_forest, params, cv=5)\n",
    "grid_rand_forest.fit(X_train, y_train);"
   ]
  },
  {
   "cell_type": "markdown",
   "metadata": {},
   "source": [
    "Support Vector Machine"
   ]
  },
  {
   "cell_type": "code",
   "execution_count": 17,
   "metadata": {},
   "outputs": [],
   "source": [
    "from sklearn.multiclass import OneVsOneClassifier\n",
    "from sklearn.svm import LinearSVC\n",
    "\n",
    "params = {'C': [1e-1, 1, 10, 100], 'loss': ['hinge', 'squared_hinge']}\n",
    "one_vs_one_svm = OneVsOneClassifier(LinearSVC(random_state=0, penalty='l2', C=100))\n",
    "one_vs_one_svm.fit(X_train, y_train);\n",
    "# grid_ovo_svm = GridSearchCV(one_vs_one_svm, params, cv=5)\n",
    "# grid_ovo_svm.fit(X_train, y_train);\n",
    "\n",
    "# from sklearn.svm import LinearSVC\n",
    "# params = {'C': [1e-1, 1, 10, 100], 'loss': ['hinge', 'squared_hinge']}\n",
    "# grid_svm = GridSearchCV(LinearSVC(), params, cv=5)\n",
    "# grid_svm.fit(X_train, y_train);"
   ]
  },
  {
   "cell_type": "code",
   "execution_count": 19,
   "metadata": {},
   "outputs": [],
   "source": [
    "from sklearn.multiclass import OneVsRestClassifier\n",
    "# params = {'C': [1e-1, 1, 10, 100], 'loss': ['hinge', 'squared_hinge']}\n",
    "one_vs_rest_svm = OneVsRestClassifier(LinearSVC(random_state=0, penalty='l2', C=.1))\n",
    "# grid_ovr_svm = GridSearchCV(one_vs_rest_svm, params, cv=5)\n",
    "one_vs_rest_svm.fit(X_train, y_train);"
   ]
  },
  {
   "cell_type": "code",
   "execution_count": 20,
   "metadata": {},
   "outputs": [
    {
     "name": "stdout",
     "output_type": "stream",
     "text": [
      "Logistic Regression Accuracy: 0.3654485049833887\n",
      "K-NN                Accuracy: 0.24584717607973422\n",
      "Random Forest       Accuracy: 0.3920265780730897\n",
      "One v One SVM       Accuracy: 0.22259136212624583\n",
      "One v Rest SVM      Accuracy: 0.12292358803986711\n"
     ]
    }
   ],
   "source": [
    "models = [grid_lreg, grid_neigh, grid_rand_forest, one_vs_one_svm, one_vs_rest_svm]\n",
    "names = ['Logistic Regression', 'K-NN', 'Random Forest', 'One v One SVM', 'One v Rest SVM']\n",
    "max_name_length = len(max(names, key=len))\n",
    "\n",
    "for model, name in zip(models, names):\n",
    "    y_hat = model.predict(X_val)\n",
    "    acc = accuracy(y_hat, y_val)\n",
    "    print('{:19s} Accuracy: {}'.format(name, acc))"
   ]
  },
  {
   "cell_type": "code",
   "execution_count": null,
   "metadata": {},
   "outputs": [],
   "source": []
  }
 ],
 "metadata": {
  "kernelspec": {
   "display_name": "Python 3",
   "language": "python",
   "name": "python3"
  },
  "language_info": {
   "codemirror_mode": {
    "name": "ipython",
    "version": 3
   },
   "file_extension": ".py",
   "mimetype": "text/x-python",
   "name": "python",
   "nbconvert_exporter": "python",
   "pygments_lexer": "ipython3",
   "version": "3.6.4"
  }
 },
 "nbformat": 4,
 "nbformat_minor": 2
}
