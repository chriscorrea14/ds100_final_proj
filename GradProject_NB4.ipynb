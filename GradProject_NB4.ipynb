{
 "cells": [
  {
   "cell_type": "markdown",
   "metadata": {},
   "source": [
    "<h1> DS200A Computer Vision Assignment</h1>"
   ]
  },
  {
   "cell_type": "markdown",
   "metadata": {},
   "source": [
    "<h2>  Part Four: Extension Activities</h2>\t\n"
   ]
  },
  {
   "cell_type": "markdown",
   "metadata": {},
   "source": [
    "TensorFlow (Optional)- Now, try using TensorFlow to categorize your images. The accuracy should be significantly higher due to the usage of nueral nets\n",
    "\n"
   ]
  },
  {
   "cell_type": "code",
   "execution_count": 38,
   "metadata": {},
   "outputs": [],
   "source": [
    "import numpy as np\n",
    "import tensorflow as tf\n",
    "import pandas as pd\n",
    "import sklearn\n",
    "from sklearn import model_selection\n",
    "from skimage.transform import resize\n",
    "import skimage\n",
    "from skimage import io\n",
    "import tensorflow.contrib.layers as layers\n",
    "from random import shuffle"
   ]
  },
  {
   "cell_type": "code",
   "execution_count": 39,
   "metadata": {},
   "outputs": [],
   "source": [
    "NUM_ITER = 1000\n",
    "IMG_SHAPE = (145, 145)\n",
    "NUM_CLASSES = 20\n",
    "LEARNING_RATE = .1\n",
    "BATCH_SIZE = 10"
   ]
  },
  {
   "cell_type": "code",
   "execution_count": 40,
   "metadata": {},
   "outputs": [],
   "source": [
    "def train_test_split(df):\n",
    "    train_df, val_df = sklearn.model_selection.train_test_split(df, test_size=0.2)\n",
    "    return train_df, val_df\n",
    "\n",
    "#Split the data into a training set, and test set \n",
    "def accuracy(pred, actual):\n",
    "    return np.mean(pred == actual)\n",
    "# Calculate the accuracy percentage of the predicted values\n",
    "def separate_features(df):\n",
    "    feature_df = df.iloc[:,2:]\n",
    "    labels_df = df.iloc[:,1]\n",
    "    return feature_df, labels_df"
   ]
  },
  {
   "cell_type": "code",
   "execution_count": 41,
   "metadata": {},
   "outputs": [],
   "source": [
    "training_data = pd.read_hdf('training_data.h5')"
   ]
  },
  {
   "cell_type": "code",
   "execution_count": 42,
   "metadata": {},
   "outputs": [],
   "source": [
    "train, val = train_test_split(training_data)\n",
    "# X_train, y_train = separate_features(train)\n",
    "# X_train.reset_index().drop(columns=['index'])\n",
    "# y_train.reset_index().drop(columns=['index'])\n",
    "# y_train = y_train.astype('int')\n",
    "# X_train_matrix = X_train.values\n",
    "X_train_df = train['image']\n",
    "y_train_df = train['label'].astype('int')\n",
    "# X_train.head()"
   ]
  },
  {
   "cell_type": "code",
   "execution_count": 43,
   "metadata": {},
   "outputs": [],
   "source": [
    "def preprocess(X):\n",
    "    def preprocess_image(image):\n",
    "        return resize(image / 255.0, IMG_SHAPE, mode='constant')\n",
    "    images = []\n",
    "    for image in X:\n",
    "        images.append(preprocess_image(image))\n",
    "    return np.array(images)\n",
    "X_train = preprocess(X_train_df)\n",
    "y_train = np.zeros((len(y_train_df), NUM_CLASSES))\n",
    "y_train[np.arange(len(y_train_df)), y_train_df.values] = 1"
   ]
  },
  {
   "cell_type": "code",
   "execution_count": 44,
   "metadata": {},
   "outputs": [],
   "source": [
    "def get_model():\n",
    "    X_ph = tf.placeholder(tf.float32, shape=[None] + list(IMG_SHAPE) + [3])\n",
    "    out = layers.convolution2d(X_ph, num_outputs=32, kernel_size=8, stride=4, activation_fn=tf.nn.relu)\n",
    "    out = layers.convolution2d(out, num_outputs=64, kernel_size=4, stride=2, activation_fn=tf.nn.relu)\n",
    "#     out = layers.convolution2d(out, num_outputs=64, kernel_size=3, stride=1, activation_fn=tf.nn.relu)\n",
    "\n",
    "    out = layers.flatten(out)\n",
    "    out = layers.fully_connected(out, num_outputs=512,         activation_fn=tf.nn.relu)\n",
    "    y_hat = layers.fully_connected(out, num_outputs=NUM_CLASSES, activation_fn=None)\n",
    "    return X_ph, y_hat"
   ]
  },
  {
   "cell_type": "code",
   "execution_count": 45,
   "metadata": {},
   "outputs": [
    {
     "name": "stdout",
     "output_type": "stream",
     "text": [
      "Loss: 0.059891894459724426\n",
      "Loss: 0.04894120618700981\n",
      "Loss: 0.04989343136548996\n",
      "Loss: 0.04744567722082138\n",
      "Loss: 0.04868364706635475\n",
      "Loss: 0.051085859537124634\n",
      "Loss: 0.04690390080213547\n",
      "Loss: 0.049169864505529404\n",
      "Loss: 0.04333537817001343\n",
      "Loss: 0.04249913617968559\n"
     ]
    }
   ],
   "source": [
    "tf.reset_default_graph()\n",
    "sess = tf.Session()\n",
    "\n",
    "X_ph, y_hat = get_model()\n",
    "# print(X_ph.get_shape(), X_train.shape)\n",
    "# print(X_train.head(20))\n",
    "y_ph = tf.placeholder(tf.float32, shape=[None, NUM_CLASSES])\n",
    "loss = tf.losses.mean_squared_error(y_hat, y_ph)\n",
    "train_step = tf.train.GradientDescentOptimizer(LEARNING_RATE).minimize(loss)\n",
    "sess.run(tf.global_variables_initializer())\n",
    "\n",
    "for i in range(NUM_ITER):\n",
    "    X_batch = X_train[i:i+BATCH_SIZE]\n",
    "    y_batch = y_train[i:i+BATCH_SIZE]\n",
    "    \n",
    "    sess.run(train_step, feed_dict={X_ph: X_batch, y_ph: y_batch})\n",
    "    if i % 100 == 0:\n",
    "        indices = np.arange(len(X_train))\n",
    "        shuffle(indices)\n",
    "        indices = indices[:200]\n",
    "        curr_loss = sess.run(loss, feed_dict={X_ph: X_train[indices], y_ph: y_train[indices]})\n",
    "        print('Loss: {}'.format(curr_loss))"
   ]
  },
  {
   "cell_type": "code",
   "execution_count": 46,
   "metadata": {},
   "outputs": [
    {
     "data": {
      "text/plain": [
       "0.33222591362126247"
      ]
     },
     "execution_count": 46,
     "metadata": {},
     "output_type": "execute_result"
    }
   ],
   "source": [
    "X_val_df = val['image']\n",
    "X_val = preprocess(X_val_df)\n",
    "y_predicted = sess.run(y_hat, feed_dict={X_ph: X_val})\n",
    "y_predicted = np.argmax(y_predicted, axis=1)\n",
    "accuracy(y_predicted, val['label'].astype('int'))"
   ]
  },
  {
   "cell_type": "code",
   "execution_count": null,
   "metadata": {},
   "outputs": [],
   "source": []
  }
 ],
 "metadata": {
  "kernelspec": {
   "display_name": "Python 3",
   "language": "python",
   "name": "python3"
  },
  "language_info": {
   "codemirror_mode": {
    "name": "ipython",
    "version": 3
   },
   "file_extension": ".py",
   "mimetype": "text/x-python",
   "name": "python",
   "nbconvert_exporter": "python",
   "pygments_lexer": "ipython3",
   "version": "3.6.4"
  }
 },
 "nbformat": 4,
 "nbformat_minor": 2
}
