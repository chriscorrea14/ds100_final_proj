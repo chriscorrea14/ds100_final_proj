{
 "cells": [
  {
   "cell_type": "markdown",
   "metadata": {},
   "source": [
    "<h1> DS200A Computer Vision Assignment</h1>"
   ]
  },
  {
   "cell_type": "markdown",
   "metadata": {},
   "source": [
    "<h2>  Part Four: Extension Activities</h2>\t\n"
   ]
  },
  {
   "cell_type": "markdown",
   "metadata": {},
   "source": [
    "TensorFlow (Optional)- Now, try using TensorFlow to categorize your images. The accuracy should be significantly higher due to the usage of nueral nets\n",
    "\n"
   ]
  },
  {
   "cell_type": "code",
   "execution_count": 1,
   "metadata": {},
   "outputs": [],
   "source": [
    "import numpy as np\n",
    "import tensorflow as tf\n",
    "import pandas as pd\n",
    "import sklearn\n",
    "from sklearn import model_selection\n",
    "from skimage.transform import resize\n",
    "import skimage\n",
    "from skimage import io\n",
    "import tensorflow.contrib.layers as layers\n",
    "from random import shuffle"
   ]
  },
  {
   "cell_type": "code",
   "execution_count": 2,
   "metadata": {},
   "outputs": [],
   "source": [
    "NUM_ITER = 1000\n",
    "NUM_ITER = 1\n",
    "IMG_SHAPE = (339, 401) # (145,145)\n",
    "NUM_CLASSES = 20\n",
    "LEARNING_RATE = .001\n",
    "BATCH_SIZE = 15"
   ]
  },
  {
   "cell_type": "code",
   "execution_count": 3,
   "metadata": {},
   "outputs": [],
   "source": [
    "def train_test_split(df):\n",
    "    train_df, val_df = sklearn.model_selection.train_test_split(df, test_size=0.2)\n",
    "    return train_df, val_df\n",
    "\n",
    "#Split the data into a training set, and test set \n",
    "def accuracy(pred, actual):\n",
    "    return np.mean(pred == actual)\n",
    "# Calculate the accuracy percentage of the predicted values\n",
    "def separate_features(df):\n",
    "    feature_df = df.iloc[:,2:]\n",
    "    labels_df = df.iloc[:,1]\n",
    "    return feature_df, labels_df"
   ]
  },
  {
   "cell_type": "code",
   "execution_count": 4,
   "metadata": {},
   "outputs": [],
   "source": [
    "training_data = pd.read_hdf('training_data.h5')"
   ]
  },
  {
   "cell_type": "code",
   "execution_count": 5,
   "metadata": {},
   "outputs": [],
   "source": [
    "train, val = train_test_split(training_data)\n",
    "# X_train, y_train = separate_features(train)\n",
    "# X_train.reset_index().drop(columns=['index'])\n",
    "# y_train.reset_index().drop(columns=['index'])\n",
    "# y_train = y_train.astype('int')\n",
    "# X_train_matrix = X_train.values\n",
    "X_train_df = train['image']\n",
    "y_train_df = train['label'].astype('int')\n",
    "# X_train.head()"
   ]
  },
  {
   "cell_type": "code",
   "execution_count": 6,
   "metadata": {},
   "outputs": [],
   "source": [
    "def preprocess(X):\n",
    "    def preprocess_image(image):\n",
    "        return resize(image / 255.0, IMG_SHAPE, mode='constant')\n",
    "    images = []\n",
    "    heights, widths = [], []\n",
    "    for image in X:\n",
    "#         heights.append(image.shape[0])\n",
    "#         widths.append(image.shape[1])\n",
    "        images.append(preprocess_image(image))\n",
    "#     print(np.mean(heights), np.mean(widths))\n",
    "    return np.array(images)\n",
    "X_train = preprocess(X_train_df)\n",
    "y_train = np.zeros((len(y_train_df), NUM_CLASSES))\n",
    "y_train[np.arange(len(y_train_df)), y_train_df.values] = 1"
   ]
  },
  {
   "cell_type": "code",
   "execution_count": 7,
   "metadata": {},
   "outputs": [],
   "source": [
    "def get_model():\n",
    "    X_ph = tf.placeholder(tf.float32, shape=[None] + list(IMG_SHAPE) + [3])\n",
    "    out = layers.convolution2d(X_ph, num_outputs=32, kernel_size=8, stride=4, activation_fn=tf.nn.relu)\n",
    "    out = layers.convolution2d(out, num_outputs=64, kernel_size=4, stride=2, activation_fn=tf.nn.relu)\n",
    "    out = layers.convolution2d(out, num_outputs=64, kernel_size=3, stride=1, activation_fn=tf.nn.relu)\n",
    "\n",
    "    out = layers.flatten(out)\n",
    "    out = layers.fully_connected(out, num_outputs=512,         activation_fn=tf.nn.relu)\n",
    "    y_hat = layers.fully_connected(out, num_outputs=NUM_CLASSES, activation_fn=None)\n",
    "\n",
    "    # Alexnet architecture (without batch norm)\n",
    "#     out = layers.convolution2d(X_ph, num_outputs=96, kernel_size=11, stride=4, activation_fn=tf.nn.relu)\n",
    "#     out = tf.layers.max_pooling2d(out, pool_size=3, strides=2)\n",
    "#     out = layers.convolution2d(out, num_outputs=256, kernel_size=5, stride=1, activation_fn=tf.nn.relu)\n",
    "#     out = tf.layers.max_pooling2d(out, pool_size=3, strides=2)\n",
    "# #     out = layers.convolution2d(out, num_outputs=384, kernel_size=3, stride=1, activation_fn=tf.nn.relu)\n",
    "# #     out = layers.convolution2d(out, num_outputs=384, kernel_size=3, stride=1, activation_fn=tf.nn.relu)\n",
    "# #     out = layers.convolution2d(out, num_outputs=256, kernel_size=3, stride=1, activation_fn=tf.nn.relu)\n",
    "# #     out = tf.layers.max_pooling2d(out, pool_size=3, strides=2)\n",
    "#     out = layers.flatten(out)\n",
    "#     out = layers.fully_connected(out, num_outputs=256,         activation_fn=tf.nn.relu)\n",
    "#     y_hat = layers.fully_connected(out, num_outputs=NUM_CLASSES,         activation_fn=tf.nn.relu)\n",
    "    return X_ph, y_hat"
   ]
  },
  {
   "cell_type": "code",
   "execution_count": 8,
   "metadata": {},
   "outputs": [
    {
     "name": "stdout",
     "output_type": "stream",
     "text": [
      "(1200, 339, 401, 3)\n",
      "[ 648 1161  947 1069  290  101  251  244  259 1106  734  912 1121  505  625\n",
      "   31  853 1089  606  459  387  851  885  915  143 1118  754   23  223  246\n",
      "  345  415  839  563  819  502  340  419  768 1050  110  821  441  247  712\n",
      "  895  405 1176   39  994   78  260  249   11  726  838   69   92  730  694\n",
      "  159   48  766  199 1000   24  615 1056  745 1024    0   95  525  400   89\n",
      "  781  208 1115  286 1097  446  652   62   12   51  631  113 1107  556  250\n",
      "  416  140  919  102  571  782  762 1103  298 1187  136 1136 1027 1135  258\n",
      "  587  538  528  149  725  417  356  728  285  964   82  988  218  299 1199\n",
      "  641 1094  578  707  883  225 1010  804  767 1138  865  618  976   36 1137\n",
      "  596  626  948 1148  237   38  353  253  991  452   65 1032  941  331 1029\n",
      "  604  121 1046  545  396  507  719  153  814  407  756  910  901  479  568\n",
      "  491  582  518   94  343  936  313  699  448  182  637  939 1143  501  377\n",
      " 1018  670  267 1151 1035  922  229  372 1066  139 1001  393  363 1041  946\n",
      "  704  478  987  465 1122]\n",
      "Loss: 0.056445274502038956\n"
     ]
    }
   ],
   "source": [
    "tf.reset_default_graph()\n",
    "sess = tf.Session()\n",
    "\n",
    "indices = np.arange(len(X_train))\n",
    "shuffle(indices)\n",
    "print(X_train.shape)\n",
    "X_train = X_train[indices]\n",
    "y_train = y_train[indices]\n",
    "# print(y_train[0:100])\n",
    "\n",
    "X_ph, y_hat = get_model()\n",
    "# print(X_ph.get_shape(), X_train.shape)\n",
    "# print(X_train.head(20))\n",
    "y_ph = tf.placeholder(tf.float32, shape=[None, NUM_CLASSES])\n",
    "# loss = tf.losses.mean_squared_error(y_hat, y_ph)\n",
    "loss = tf.reduce_mean(tf.square(y_hat - y_ph))\n",
    "train_step = tf.train.GradientDescentOptimizer(LEARNING_RATE).minimize(loss)\n",
    "sess.run(tf.global_variables_initializer())\n",
    "\n",
    "for iteration in range(NUM_ITER):\n",
    "    if iteration % 100 == 0:\n",
    "        indices = np.arange(len(X_train))\n",
    "        shuffle(indices)\n",
    "        indices = indices[:200]\n",
    "        print(indices)\n",
    "        pred = sess.run(y_hat, feed_dict={X_ph: X_train[indices]})\n",
    "#         print('pred', pred)\n",
    "#         print('y', y_train[indices])\n",
    "        curr_loss = sess.run(loss, feed_dict={X_ph: X_train[indices], y_ph: y_train[indices]})\n",
    "        print('Loss: {}'.format(curr_loss))\n",
    "        \n",
    "    i = iteration % len(X_train)\n",
    "    X_batch = X_train[i:i+BATCH_SIZE]\n",
    "    y_batch = y_train[i:i+BATCH_SIZE]\n",
    "    sess.run(train_step, feed_dict={X_ph: X_batch, y_ph: y_batch})"
   ]
  },
  {
   "cell_type": "code",
   "execution_count": 9,
   "metadata": {},
   "outputs": [
    {
     "data": {
      "text/plain": [
       "0.039867109634551492"
      ]
     },
     "execution_count": 9,
     "metadata": {},
     "output_type": "execute_result"
    }
   ],
   "source": [
    "X_val_df = val['image']\n",
    "X_val = preprocess(X_val_df)\n",
    "y_predicted = sess.run(y_hat, feed_dict={X_ph: X_val})\n",
    "y_predicted = np.argmax(y_predicted, axis=1)\n",
    "accuracy(y_predicted, val['label'].astype('int'))"
   ]
  },
  {
   "cell_type": "code",
   "execution_count": null,
   "metadata": {},
   "outputs": [],
   "source": []
  }
 ],
 "metadata": {
  "kernelspec": {
   "display_name": "Python 3",
   "language": "python",
   "name": "python3"
  },
  "language_info": {
   "codemirror_mode": {
    "name": "ipython",
    "version": 3
   },
   "file_extension": ".py",
   "mimetype": "text/x-python",
   "name": "python",
   "nbconvert_exporter": "python",
   "pygments_lexer": "ipython3",
   "version": "3.6.4"
  }
 },
 "nbformat": 4,
 "nbformat_minor": 2
}
